{
 "cells": [
  {
   "cell_type": "markdown",
   "id": "62f813d9",
   "metadata": {},
   "source": [
    "### Task 1. Given a side of square. Find its perimeter and area."
   ]
  },
  {
   "cell_type": "code",
   "execution_count": 4,
   "id": "a4206ac6",
   "metadata": {},
   "outputs": [
    {
     "name": "stdout",
     "output_type": "stream",
     "text": [
      "Perimeter 24.0\n",
      "Area 36.0\n"
     ]
    }
   ],
   "source": [
    "side = float(input(\"Enter the lenght of the side of the square:\"))\n",
    "perimeter = 4 * side\n",
    "area = side ** 2 \n",
    "print(\"Perimeter\",perimeter)\n",
    "print(\"Area\",area)"
   ]
  },
  {
   "cell_type": "markdown",
   "id": "c45de952",
   "metadata": {},
   "source": [
    "### Task 2. Given diameter of circle. Find its length.\n"
   ]
  },
  {
   "cell_type": "code",
   "execution_count": null,
   "id": "401a4990",
   "metadata": {},
   "outputs": [
    {
     "name": "stdout",
     "output_type": "stream",
     "text": [
      "Lenght of the square 31.400000000000002\n"
     ]
    }
   ],
   "source": [
    "diameter = float(input('Enter the lenght of the circle:'))\n",
    "Lenght = 3.14 * diameter \n",
    "print('Lenght of the square',Lenght)"
   ]
  },
  {
   "cell_type": "markdown",
   "id": "8776fe02",
   "metadata": {},
   "source": [
    "### Task 3. Given two numbers a and b. Find their mean.\n"
   ]
  },
  {
   "cell_type": "code",
   "execution_count": 11,
   "id": "0577dba6",
   "metadata": {},
   "outputs": [
    {
     "name": "stdout",
     "output_type": "stream",
     "text": [
      "The mean of the a and b is : 14.0\n"
     ]
    }
   ],
   "source": [
    "a = float(input('Enter the first number (a):'))\n",
    "b = float(input('Enter the first number (b):'))\n",
    "\n",
    "mean = (a + b)/2\n",
    "\n",
    "print('The mean of the a and b is :',mean)"
   ]
  },
  {
   "cell_type": "markdown",
   "id": "28f67994",
   "metadata": {},
   "source": [
    "### Task 4. Given two numbers a and b. Find their sum, product and square of each number.\n"
   ]
  },
  {
   "cell_type": "code",
   "execution_count": 14,
   "id": "4298ef76",
   "metadata": {},
   "outputs": [
    {
     "name": "stdout",
     "output_type": "stream",
     "text": [
      "The sum of the x and y is: 9.0\n",
      "The product of the x and y is: 20.0\n",
      "The square of the x is: 16.0\n",
      "The square of the y is: 25.0\n"
     ]
    }
   ],
   "source": [
    "x = float(input('Enter the number (x):'))\n",
    "y = float(input('Enter the number (y):'))\n",
    "\n",
    "sum = x + y \n",
    "product = x * y\n",
    "square_x  = x ** 2\n",
    "square_y = y ** 2 \n",
    "\n",
    "print('The sum of the x and y is:',sum)\n",
    "print('The product of the x and y is:',product)\n",
    "print('The square of the x is:',square_x)\n",
    "print('The square of the y is:',square_y)\n"
   ]
  }
 ],
 "metadata": {
  "kernelspec": {
   "display_name": "Python 3",
   "language": "python",
   "name": "python3"
  },
  "language_info": {
   "codemirror_mode": {
    "name": "ipython",
    "version": 3
   },
   "file_extension": ".py",
   "mimetype": "text/x-python",
   "name": "python",
   "nbconvert_exporter": "python",
   "pygments_lexer": "ipython3",
   "version": "3.13.3"
  }
 },
 "nbformat": 4,
 "nbformat_minor": 5
}
