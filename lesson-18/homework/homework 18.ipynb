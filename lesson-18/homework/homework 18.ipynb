{
 "cells": [
  {
   "cell_type": "markdown",
   "id": "7845729f",
   "metadata": {},
   "source": [
    "### Homework 2"
   ]
  },
  {
   "cell_type": "code",
   "execution_count": 2,
   "id": "7abf79ae",
   "metadata": {},
   "outputs": [],
   "source": [
    "import pandas as pd "
   ]
  },
  {
   "cell_type": "code",
   "execution_count": null,
   "id": "442ae8bf",
   "metadata": {},
   "outputs": [],
   "source": [
    "df = pd.read_csv(\"tackoverflow_qa.csv\")\n",
    "df.head()\n",
    "df"
   ]
  },
  {
   "cell_type": "code",
   "execution_count": null,
   "id": "a1553aa1",
   "metadata": {},
   "outputs": [],
   "source": [
    "# Find all questions that were created before 2014\n",
    "\n",
    "filtered_df_before_2014 = df[df['creationdate'] < '2014-01-01']\n",
    "filtered_df_before_2014\n"
   ]
  },
  {
   "cell_type": "code",
   "execution_count": null,
   "id": "265c1fac",
   "metadata": {},
   "outputs": [],
   "source": [
    "# 2. Find all questions with a score more than 50\n",
    "\n",
    "score = df[df['score'] > 50]\n",
    "score"
   ]
  },
  {
   "cell_type": "code",
   "execution_count": null,
   "id": "6cd8b0cb",
   "metadata": {},
   "outputs": [],
   "source": [
    "# 3. Find all questions with a score between 50 and 100\n",
    "\n",
    "score_50_100 = df[df['score'].between(50,100)]\n",
    "score_50_100"
   ]
  },
  {
   "cell_type": "code",
   "execution_count": null,
   "id": "5aa112f7",
   "metadata": {},
   "outputs": [],
   "source": [
    "# 4. Find all questions answered by Scott Boston\n",
    "answer_name = df[df['ans_name'] == 'Scott Boston']\n",
    "answer_name"
   ]
  },
  {
   "cell_type": "code",
   "execution_count": null,
   "id": "4dcd1f28",
   "metadata": {},
   "outputs": [],
   "source": [
    "# 5. Find all questions answered by the following 5 users\n",
    "df.head()"
   ]
  },
  {
   "cell_type": "code",
   "execution_count": null,
   "id": "7103617c",
   "metadata": {},
   "outputs": [],
   "source": [
    "# 6. Find all questions that were created between March, 2014 and October 2014 that were answered by Unutbu and have score less than 5.\n",
    "\n",
    "created_time = df[df['creationdate'].between('2014-03-01','2014-10-01')]\n",
    "answered_name = df[df['ans_name'] == 'Unutbu']\n",
    "score = df[df['score'] < 5]\n",
    "\n",
    "# all_reply = (df[df['creationdate'].between('2014-03-01','2014-10-01')]) & (df[df['ans_name'] == 'Unutbu']) & (df[df['score'] < 5])\n",
    "all_reply = df[\n",
    "    (df['creationdate'].between('2014-03-01', '2014-10-01')) &\n",
    "    (df['ans_name'] == 'Unutbu') &\n",
    "    (df['score'] < 5)\n",
    "]\n",
    "\n",
    "all_reply"
   ]
  },
  {
   "cell_type": "code",
   "execution_count": null,
   "id": "9e076ead",
   "metadata": {},
   "outputs": [],
   "source": [
    "# 7. Find all questions that have score between 5 and 10 or have a view count of greater than 10,000\n",
    "score = df[df['score'].between(5, 10)]\n",
    "view_count = df[df['viewcount'].gt(10000)]\n",
    "\n",
    "find_all = df[\n",
    "    (df['score'].between(5, 10)) |\n",
    "    (df['viewcount'].gt(10000))\n",
    "]\n",
    "find_all"
   ]
  },
  {
   "cell_type": "code",
   "execution_count": null,
   "id": "daa39d04",
   "metadata": {},
   "outputs": [],
   "source": [
    "# 8. Find all questions that are not answered by Scott Boston\n",
    "\n",
    "not_replied = df[df['ans_name'] != 'Scott Boston']\n",
    "not_replied\n"
   ]
  },
  {
   "cell_type": "markdown",
   "id": "224a994b",
   "metadata": {},
   "source": [
    "### Homework 3\n",
    "#### Titanic data set, stored as CSV. The data consists of the following data columns:\n",
    "PassengerId: Id of every passenger.\n",
    "Survived: Indication whether passenger survived. 0 for yes and 1 for no.\n",
    "Pclass: One out of the 3 ticket classes: Class 1, Class 2 and Class 3.\n",
    "Name: Name of passenger.\n",
    "Sex: Gender of passenger.\n",
    "Age: Age of passenger in years.\n",
    "SibSp: Number of siblings or spouses aboard.\n",
    "Parch: Number of parents or children aboard.\n",
    "Ticket: Ticket number of passenger.\n",
    "Fare: Indicating the fare.\n",
    "Cabin: Cabin number of passenger.\n",
    "Embarked: Port of embarkation."
   ]
  },
  {
   "cell_type": "code",
   "execution_count": null,
   "id": "64947afe",
   "metadata": {},
   "outputs": [],
   "source": [
    "import pandas as pd \n",
    "\n",
    "titanic_df = pd.read_csv('titanic.csv')\n",
    "titanic_df.head()\n",
    "titanic_df"
   ]
  },
  {
   "cell_type": "code",
   "execution_count": null,
   "id": "adcf9bb3",
   "metadata": {},
   "outputs": [],
   "source": [
    "# 1. Select Female Passengers in Class 1 with Ages between 20 and 30: Extract a DataFrame containing female passengers in Class 1 with ages between 20 and 30.\n",
    "\n",
    "age = titanic_df['Age'].between(20,30)\n",
    "class_1 = titanic_df['Pclass'] == 1\n",
    "sex = titanic_df['Sex'] == 'female'\n",
    "\n",
    "result = titanic_df[\n",
    "    age & \n",
    "    class_1 & \n",
    "    sex]\n",
    "\n",
    "result"
   ]
  },
  {
   "cell_type": "code",
   "execution_count": null,
   "id": "cba1d266",
   "metadata": {},
   "outputs": [],
   "source": [
    "# 2. Filter Passengers Who Paid More than $100: Create a DataFrame with passengers who paid a fare greater than $100.\n",
    "\n",
    "Fare_ticket = titanic_df[titanic_df['Fare'].gt(100)]\n",
    "Fare_ticket"
   ]
  },
  {
   "cell_type": "code",
   "execution_count": null,
   "id": "a47830a9",
   "metadata": {},
   "outputs": [],
   "source": [
    "# 3. Select Passengers Who Survived and Were Alone: Filter passengers who survived and were traveling alone (no siblings, spouses, parents, or children).\n",
    "\n",
    "survived = titanic_df['Survived'] == 1 \n",
    "traveling_alone = (titanic_df['SibSp'] == 0) & (titanic_df['Parch'] == 0)\n",
    "\n",
    "surv_tra_alone = titanic_df[survived & traveling_alone]\n",
    "surv_tra_alone"
   ]
  },
  {
   "cell_type": "code",
   "execution_count": null,
   "id": "c9fb739b",
   "metadata": {},
   "outputs": [],
   "source": [
    "# 4. Filter Passengers Embarked from 'C' and Paid More Than $50: Create a DataFrame with passengers who embarked from 'C' and paid more than $50.\n",
    "\n",
    "Embarked = titanic_df['Embarked'] == 'C'\n",
    "Paid_Fare = titanic_df['Fare'].gt(50)\n",
    "\n",
    "result_filtered = titanic_df[\n",
    "     Embarked &\n",
    "     Paid_Fare\n",
    "]\n",
    "result_filtered"
   ]
  },
  {
   "cell_type": "code",
   "execution_count": null,
   "id": "7ca9bb8c",
   "metadata": {},
   "outputs": [],
   "source": [
    "# 5. Select Passengers with Siblings or Spouses and Parents or Children: Extract passengers who had both siblings or spouses aboard and parents or children aboard.\n",
    "\n",
    "Siblings_Spouse = titanic_df['SibSp'] == 1 \n",
    "Parents_Children = titanic_df['Parch'] == 1\n",
    "\n",
    "Both_of_them = titanic_df[\n",
    "    Siblings_Spouse & \n",
    "    Parents_Children\n",
    "]\n",
    "Both_of_them"
   ]
  },
  {
   "cell_type": "code",
   "execution_count": null,
   "id": "0c5ab52f",
   "metadata": {},
   "outputs": [],
   "source": [
    "# 6. Filter Passengers Aged 15 or Younger Who Didn't Survive: \n",
    "# Create a DataFrame with passengers aged 15 or younger who did not survive.\n",
    "\n",
    "age_of_children = titanic_df['Age'].le(15)\n",
    "not_survived = titanic_df['Survived'] == 0\n",
    "\n",
    "result = titanic_df [\n",
    "    age_of_children & \n",
    "    not_survived\n",
    "]\n",
    "result"
   ]
  },
  {
   "cell_type": "code",
   "execution_count": null,
   "id": "211ea281",
   "metadata": {},
   "outputs": [],
   "source": [
    "# 7. Select Passengers with Cabins and Fare Greater Than $200: \n",
    "# Extract passengers with known cabin numbers and a fare greater than $200.\n",
    "\n",
    "titanic_df\n",
    "\n",
    "cabins = titanic_df['Cabin'].notna()\n",
    "Fare = titanic_df['Fare'].gt(200)\n",
    "\n",
    "final_result = titanic_df[\n",
    "    cabins & \n",
    "    Fare\n",
    "]\n",
    "final_result\n"
   ]
  },
  {
   "cell_type": "code",
   "execution_count": null,
   "id": "24ba060b",
   "metadata": {},
   "outputs": [],
   "source": [
    "# 8. Filter Passengers with Odd-Numbered Passenger IDs: \n",
    "# Create a DataFrame with passengers whose PassengerId is an odd number.\n",
    "\n",
    "odd_passengers = titanic_df[titanic_df['PassengerId'] % 2 != 0]\n",
    "\n",
    "odd_passengers"
   ]
  },
  {
   "cell_type": "code",
   "execution_count": null,
   "id": "40038483",
   "metadata": {},
   "outputs": [],
   "source": [
    "# 9. Select Passengers with Unique Ticket Numbers: Extract a DataFrame with passengers having unique ticket numbers.\n",
    "\n",
    "\n",
    "unique_ticket = titanic_df['Ticket'].nunique()\n",
    "\n",
    "print(unique_ticket)\n"
   ]
  },
  {
   "cell_type": "code",
   "execution_count": null,
   "id": "1c97ffcf",
   "metadata": {},
   "outputs": [],
   "source": [
    "# 10. Filter Passengers with 'Miss' in Their Name and Were in Class 1: \n",
    "# Create a DataFrame with female passengers having 'Miss' in their name and were in Class 1.\n",
    "\n",
    "female = titanic_df['Sex'] == 'female'\n",
    "\n",
    "name = titanic_df['Name'].str.contains('Miss')\n",
    "\n",
    "Class_number = titanic_df['Pclass'] == 1\n",
    "titanic_df\n",
    "\n",
    "result = titanic_df[\n",
    "    female & name &\n",
    "    Class_number\n",
    "]\n",
    "result"
   ]
  }
 ],
 "metadata": {
  "kernelspec": {
   "display_name": "Python 3",
   "language": "python",
   "name": "python3"
  },
  "language_info": {
   "codemirror_mode": {
    "name": "ipython",
    "version": 3
   },
   "file_extension": ".py",
   "mimetype": "text/x-python",
   "name": "python",
   "nbconvert_exporter": "python",
   "pygments_lexer": "ipython3",
   "version": "3.13.3"
  }
 },
 "nbformat": 4,
 "nbformat_minor": 5
}
