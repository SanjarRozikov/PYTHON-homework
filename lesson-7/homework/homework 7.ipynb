{
 "cells": [
  {
   "cell_type": "markdown",
   "id": "39c99f79",
   "metadata": {},
   "source": [
    "## 1. is_prime(n) funksiyasi"
   ]
  },
  {
   "cell_type": "code",
   "execution_count": 12,
   "id": "b8226e48",
   "metadata": {},
   "outputs": [
    {
     "name": "stdout",
     "output_type": "stream",
     "text": [
      "False\n"
     ]
    }
   ],
   "source": [
    "def is_prime(n):\n",
    "    if n < 2:\n",
    "        return False\n",
    "    for i in range(2, int(n ** 0.5) + 1):\n",
    "        if n % i == 0:\n",
    "            return False\n",
    "    return True\n",
    "\n",
    "user_input = int(input(\"Enter a number: \"))\n",
    "print(is_prime(user_input))\n"
   ]
  },
  {
   "cell_type": "markdown",
   "id": "f9bd05f7",
   "metadata": {},
   "source": [
    "## 2. digit_sum(k) funksiyasi"
   ]
  },
  {
   "cell_type": "code",
   "execution_count": 14,
   "id": "a8954c2d",
   "metadata": {},
   "outputs": [
    {
     "name": "stdout",
     "output_type": "stream",
     "text": [
      "28\n"
     ]
    }
   ],
   "source": [
    "def sum_of_digits(n):\n",
    "    return sum(int(digit) for digit in str(n))\n",
    "\n",
    "print(sum_of_digits(5698))  \n",
    "# print(sum_of_digits(123))  \n"
   ]
  },
  {
   "cell_type": "markdown",
   "id": "c3c367a8",
   "metadata": {},
   "source": [
    "## 3. Ikki sonning darajalari"
   ]
  },
  {
   "cell_type": "code",
   "execution_count": 28,
   "id": "d6ade12f",
   "metadata": {},
   "outputs": [
    {
     "name": "stdout",
     "output_type": "stream",
     "text": [
      "2 4 8 "
     ]
    }
   ],
   "source": [
    "def print_powers_of_two(N):\n",
    "    k = 2\n",
    "    while k <= N:\n",
    "        print(k, end=' ')\n",
    "        k *= 2\n",
    "N = int(input(\"N ni kiriting: \"))\n",
    "print_powers_of_two(N)"
   ]
  }
 ],
 "metadata": {
  "kernelspec": {
   "display_name": "Python 3",
   "language": "python",
   "name": "python3"
  },
  "language_info": {
   "codemirror_mode": {
    "name": "ipython",
    "version": 3
   },
   "file_extension": ".py",
   "mimetype": "text/x-python",
   "name": "python",
   "nbconvert_exporter": "python",
   "pygments_lexer": "ipython3",
   "version": "3.13.3"
  }
 },
 "nbformat": 4,
 "nbformat_minor": 5
}
