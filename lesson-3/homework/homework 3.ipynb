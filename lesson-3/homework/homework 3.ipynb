{
 "cells": [
  {
   "cell_type": "markdown",
   "id": "d5f353e9",
   "metadata": {},
   "source": [
    "## 1. Create and Access List Elements\n",
    "### Create a list containing five different fruits and print the third fruit.\n",
    "\n"
   ]
  },
  {
   "cell_type": "code",
   "execution_count": 5,
   "id": "e528f6ed",
   "metadata": {},
   "outputs": [
    {
     "name": "stdout",
     "output_type": "stream",
     "text": [
      "The third fruit is: Cherry\n"
     ]
    }
   ],
   "source": [
    "fruit_list = ['Apple','Banana', 'Cherry', 'Mango', 'Grapes']\n",
    "fruit_list\n",
    "\n",
    "print('The third fruit is:',fruit_list[2])"
   ]
  },
  {
   "cell_type": "markdown",
   "id": "865bd37b",
   "metadata": {},
   "source": [
    "## 2. Concatenate Two Lists\n",
    "### Create two lists of numbers and concatenate them into a single list.\n",
    "\n"
   ]
  },
  {
   "cell_type": "code",
   "execution_count": 8,
   "id": "1edad96d",
   "metadata": {},
   "outputs": [
    {
     "name": "stdout",
     "output_type": "stream",
     "text": [
      "Combined List: [1, 2, 3, 4, 5, 6, 7, 8, 9, 10]\n"
     ]
    }
   ],
   "source": [
    "number_list_1 = [1,2,3,4,5,6]\n",
    "number_list_2 = [7,8,9,10]\n",
    "\n",
    "combined_list = number_list_1 + number_list_2\n",
    "\n",
    "print('Combined List:', combined_list)"
   ]
  },
  {
   "cell_type": "markdown",
   "id": "7805732f",
   "metadata": {},
   "source": [
    "## 3. Extract Elements from a List\n",
    "### Given a list of numbers, extract the first, middle, and last elements and store them in a new list.\n",
    "\n"
   ]
  },
  {
   "cell_type": "code",
   "execution_count": 6,
   "id": "611d66ed",
   "metadata": {},
   "outputs": [
    {
     "name": "stdout",
     "output_type": "stream",
     "text": [
      "first, middle, last elements: [15, 30, 95]\n"
     ]
    }
   ],
   "source": [
    "numbers = [15, 20, 30, 75, 95]\n",
    "\n",
    "first = numbers[0]\n",
    "middle_index = len(numbers) // 2 \n",
    "middle = numbers[middle_index]\n",
    "last = numbers[-1]\n",
    "new_list = [first, middle, last]\n",
    "\n",
    "print(\"first, middle, last elements:\", new_list)\n",
    "\n"
   ]
  },
  {
   "cell_type": "markdown",
   "id": "f7e54f4e",
   "metadata": {},
   "source": [
    "## 4. Convert list to tuple \n",
    "### Create a list of your five favorite movies and convert it into a tuple."
   ]
  },
  {
   "cell_type": "code",
   "execution_count": 8,
   "id": "a2be1bb6",
   "metadata": {},
   "outputs": [
    {
     "name": "stdout",
     "output_type": "stream",
     "text": [
      "My tuple: (1, 2, 4, 6, 8)\n"
     ]
    }
   ],
   "source": [
    "my_list = [1, 2, 4, 6, 8]\n",
    "my_tuple = tuple(my_list)\n",
    "\n",
    "print(\"My tuple:\", my_tuple)"
   ]
  },
  {
   "cell_type": "markdown",
   "id": "4a5e91db",
   "metadata": {},
   "source": [
    "## 5. Check Element in a List\n",
    "### Given a list of cities, check if \"Paris\" is in the list and print the result.\n",
    "\n"
   ]
  },
  {
   "cell_type": "code",
   "execution_count": 13,
   "id": "39d5442e",
   "metadata": {},
   "outputs": [
    {
     "name": "stdout",
     "output_type": "stream",
     "text": [
      "Yes, 'Paris' is in the list.\n"
     ]
    }
   ],
   "source": [
    "city = [\"Moscow\", \"Tashken\", \"Madrid\", \"Paris\", \"Munich\"]\n",
    "\n",
    "if 'Paris' in city:\n",
    "    print(\"Yes, 'Paris' is in the list.\")\n",
    "else:\n",
    "    print(\"No, 'Paris' is in not the list.\")"
   ]
  },
  {
   "cell_type": "markdown",
   "id": "70b80699",
   "metadata": {},
   "source": [
    "## 6. Duplicate a List Without Using Loops\n",
    "### Create a list of numbers and duplicate it without using loops.\n",
    "\n"
   ]
  },
  {
   "cell_type": "code",
   "execution_count": null,
   "id": "54d89b77",
   "metadata": {},
   "outputs": [
    {
     "name": "stdout",
     "output_type": "stream",
     "text": [
      "[12, 43, 56, 676, 321, 5678, 1]\n"
     ]
    }
   ],
   "source": [
    "my_list = [12, 43, 56, 676, 321, 5678, 1]\n",
    "duplicate = my_list.copy()\n",
    "\n",
    "print(duplicate)"
   ]
  },
  {
   "cell_type": "markdown",
   "id": "aaff927f",
   "metadata": {},
   "source": [
    "## 7. Swap First and Last Elements of a List\n",
    "### Given a list of numbers, swap the first and last elements.\n",
    "\n"
   ]
  },
  {
   "cell_type": "code",
   "execution_count": 32,
   "id": "b53630f9",
   "metadata": {},
   "outputs": [
    {
     "name": "stdout",
     "output_type": "stream",
     "text": [
      "numbers1: [10, 15, 12, 65]\n",
      "numbers2: [6, 5, 8, 9, 23, 19]\n"
     ]
    }
   ],
   "source": [
    "my_numbers1 = [6, 5, 8 ,9 ,23, 19]\n",
    "my_numbers2 =[10, 15, 12, 65]\n",
    "my_numbers1, my_numbers2 = my_numbers2, my_numbers1\n",
    "\n",
    "print(\"numbers1:\", my_numbers1 )\n",
    "print(\"numbers2:\", my_numbers2 )"
   ]
  },
  {
   "cell_type": "markdown",
   "id": "78f960e8",
   "metadata": {},
   "source": [
    "## 8. Slice a Tuple\n",
    "### Create a tuple of numbers from 1 to 10 and print a slice from index 3 to 7.\n",
    "\n"
   ]
  },
  {
   "cell_type": "code",
   "execution_count": null,
   "id": "e00e64e4",
   "metadata": {},
   "outputs": [
    {
     "name": "stdout",
     "output_type": "stream",
     "text": [
      "(4, 5, 6, 7)\n"
     ]
    }
   ],
   "source": [
    "# index      0  1  2  3  4  5  6  7  8  9\n",
    "my_tuple1 = (1, 2, 3, 4, 5, 6, 7, 8, 9, 10)\n",
    "my_tuple1\n",
    "sliced = my_tuple1[3:7] #slicing from index 3 to 7 means, that it is slcing from 4, 5, 6, 7 (excluded last index 7)\n",
    "print(sliced)"
   ]
  },
  {
   "cell_type": "markdown",
   "id": "339237f4",
   "metadata": {},
   "source": [
    "## 9. Count Occurrences in a List\n",
    "### Create a list of colors and count how many times \"blue\" appears in the list.\n",
    "\n"
   ]
  },
  {
   "cell_type": "code",
   "execution_count": 53,
   "id": "9bd534b5",
   "metadata": {},
   "outputs": [
    {
     "name": "stdout",
     "output_type": "stream",
     "text": [
      "3\n"
     ]
    }
   ],
   "source": [
    "list_colors = ['yellow', 'blue','red', 'green','blue','purple', 'blue', 'red']\n",
    "list_colors\n",
    "\n",
    "color_count = list_colors.count('blue')\n",
    "color_count\n",
    "\n",
    "print (color_count)"
   ]
  },
  {
   "cell_type": "markdown",
   "id": "954ec93a",
   "metadata": {},
   "source": [
    "## 10. Find the Index of an Element in a Tuple\n",
    "### Given a tuple of animals, find the index of \"lion\".\n",
    "\n"
   ]
  },
  {
   "cell_type": "code",
   "execution_count": 63,
   "id": "86a7ab1d",
   "metadata": {},
   "outputs": [
    {
     "name": "stdout",
     "output_type": "stream",
     "text": [
      "Index of 'lion': 2\n"
     ]
    }
   ],
   "source": [
    "tuple_animals = (\"wolf\",\"bear\",\"lion\", 'elephant','fox', 'tiger')\n",
    "tuple_animals\n",
    "\n",
    "index_of_lion = tuple_animals.index(\"lion\")\n",
    "\n",
    "print(\"Index of 'lion':\", index_of_lion)\n"
   ]
  },
  {
   "cell_type": "markdown",
   "id": "293f54e4",
   "metadata": {},
   "source": [
    "## 11. Merge Two Tuples\n",
    "### Create two tuples of numbers and merge them into a single tuple.\n",
    "\n"
   ]
  },
  {
   "cell_type": "code",
   "execution_count": 66,
   "id": "a5ba0f99",
   "metadata": {},
   "outputs": [
    {
     "name": "stdout",
     "output_type": "stream",
     "text": [
      "(2, 3, 5, 7, 11, 4, 6, 8, 9, 10, 12)\n"
     ]
    }
   ],
   "source": [
    "tuple1 = (2,3,5,7,11)\n",
    "tuple2 = (4,6,8,9,10,12)\n",
    "merged_tuples_numbers = tuple1 + tuple2 \n",
    "\n",
    "print(merged_tuples_numbers)"
   ]
  },
  {
   "cell_type": "markdown",
   "id": "99bd96be",
   "metadata": {},
   "source": [
    "## 12. Find the Length of a List and Tuple\n",
    "### Given a list and a tuple, find and print their lengths.\n",
    "\n"
   ]
  },
  {
   "cell_type": "code",
   "execution_count": 75,
   "id": "518402ff",
   "metadata": {},
   "outputs": [
    {
     "name": "stdout",
     "output_type": "stream",
     "text": [
      "Lenght of the list is  4\n",
      "Lenght of the tuple is  3\n"
     ]
    }
   ],
   "source": [
    "my_list_name = [\"Sanjar\", \"Sardor\", \"Shoxrux\", \"Sarvar\"]\n",
    "my_tuple_name = (\"Sanjar\", \"Sardor\", \"Shoxrux\")\n",
    "lenght_list = len(my_list_name)\n",
    "lenght_tuple = len(my_tuple_name)\n",
    "\n",
    "print(\"Lenght of the list is \", lenght_list)\n",
    "print(\"Lenght of the tuple is \", lenght_tuple)"
   ]
  },
  {
   "cell_type": "markdown",
   "id": "18e79929",
   "metadata": {},
   "source": [
    "## 13. Convert Tuple to List\n",
    "### Create a tuple of five numbers and convert it into a list.\n",
    "\n"
   ]
  },
  {
   "cell_type": "code",
   "execution_count": 80,
   "id": "5b30a85d",
   "metadata": {},
   "outputs": [
    {
     "name": "stdout",
     "output_type": "stream",
     "text": [
      "[34, 27, 5, 3, 26]\n",
      "<class 'list'>\n"
     ]
    }
   ],
   "source": [
    "tuple_numbers = (34, 27, 5, 3, 26)\n",
    "tuple_numbers\n",
    "list_numbers = list(tuple_numbers)\n",
    "\n",
    "print(list_numbers)\n",
    "print(type(list_numbers))"
   ]
  },
  {
   "cell_type": "markdown",
   "id": "c99aa8b7",
   "metadata": {},
   "source": [
    "## 14. Find Maximum and Minimum in a Tuple\n",
    "### Given a tuple of numbers, find and print the maximum and minimum values.\n",
    "\n"
   ]
  },
  {
   "cell_type": "code",
   "execution_count": 88,
   "id": "dbf9e918",
   "metadata": {},
   "outputs": [
    {
     "name": "stdout",
     "output_type": "stream",
     "text": [
      "Max number: 81\n",
      "Min number: 33\n"
     ]
    }
   ],
   "source": [
    "tuple_numbers1 = (57,53,33,73,81)\n",
    "max_tuple_number = max(tuple_numbers1)\n",
    "min_tuple_number = min(tuple_numbers1)\n",
    "\n",
    "print(\"Max number:\", max_tuple_number)\n",
    "print(\"Min number:\", min_tuple_number)"
   ]
  },
  {
   "cell_type": "markdown",
   "id": "72c36638",
   "metadata": {},
   "source": [
    "## 15. Reverse a Tuple\n",
    "### Create a tuple of words and print it in reverse order.\n",
    "\n"
   ]
  },
  {
   "cell_type": "code",
   "execution_count": 98,
   "id": "ac2f91aa",
   "metadata": {},
   "outputs": [
    {
     "name": "stdout",
     "output_type": "stream",
     "text": [
      "Reversed tuple: ('Sanjar', 'Anora', 'Mariyam', 'Robiya')\n"
     ]
    }
   ],
   "source": [
    "tuple_words = (\"Robiya\", \"Mariyam\", \"Anora\",\"Sanjar\")\n",
    "reversed_tuple_words = tuple_words[::-1]\n",
    "print(\"Reversed tuple:\", reversed_tuple_words)\n"
   ]
  },
  {
   "cell_type": "markdown",
   "id": "b7579f6d",
   "metadata": {},
   "source": [
    "### or"
   ]
  },
  {
   "cell_type": "code",
   "execution_count": null,
   "id": "7199303d",
   "metadata": {},
   "outputs": [
    {
     "name": "stdout",
     "output_type": "stream",
     "text": [
      "Reversed tuple: ('Sanjar', 'Anora', 'Mariyam', 'Robiya')\n"
     ]
    }
   ],
   "source": [
    "tuple_words = (\"Robiya\", \"Mariyam\", \"Anora\",\"Sanjar\")\n",
    "reversed_tuple_words = tuple(reversed(tuple_words))\n",
    "print(\"Reversed tuple:\", reversed_tuple_words)\n"
   ]
  }
 ],
 "metadata": {
  "kernelspec": {
   "display_name": "Python 3",
   "language": "python",
   "name": "python3"
  },
  "language_info": {
   "codemirror_mode": {
    "name": "ipython",
    "version": 3
   },
   "file_extension": ".py",
   "mimetype": "text/x-python",
   "name": "python",
   "nbconvert_exporter": "python",
   "pygments_lexer": "ipython3",
   "version": "3.13.3"
  }
 },
 "nbformat": 4,
 "nbformat_minor": 5
}
