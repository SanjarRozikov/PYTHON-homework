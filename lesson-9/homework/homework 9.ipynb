{
 "cells": [
  {
   "cell_type": "markdown",
   "id": "f4b411e7",
   "metadata": {},
   "source": [
    "### 1. Circle Class\n",
    "#### Write a Python program to create a class representing a Circle. Include methods to calculate its area and perimeter.\n",
    "\n"
   ]
  },
  {
   "cell_type": "code",
   "execution_count": 11,
   "id": "df5353df",
   "metadata": {},
   "outputs": [
    {
     "name": "stdout",
     "output_type": "stream",
     "text": [
      "<__main__.Circle object at 0x000001BCC8C59940>\n",
      "Area 314.1592653589793\n",
      "Perimeter 62.83185307179586\n"
     ]
    }
   ],
   "source": [
    "import math\n",
    "\n",
    "class Circle:\n",
    "    def __init__(self, radius):\n",
    "        self.radius =radius\n",
    "    def area(self):\n",
    "        return math.pi * self.radius ** 2\n",
    "    def perimeter(self):\n",
    "        return 2 * math.pi * self.radius\n",
    "    \n",
    "\n",
    "\n",
    "c = Circle(10)\n",
    "print(c)\n",
    "print(\"Area\", c.area())\n",
    "print(\"Perimeter\", c.perimeter())\n"
   ]
  },
  {
   "cell_type": "markdown",
   "id": "3e84ce5f",
   "metadata": {},
   "source": [
    "### 2. Person Class\n",
    "#### Write a Python program to create a Person class. Include attributes like name, country, and date of birth. Implement a method to determine the person's age.\n",
    "\n"
   ]
  },
  {
   "cell_type": "code",
   "execution_count": 24,
   "id": "5a85d2b7",
   "metadata": {},
   "outputs": [
    {
     "name": "stdout",
     "output_type": "stream",
     "text": [
      "Hi, my name is Sanjar and I'm from Uzbekistan\n",
      "I'm 34\n"
     ]
    }
   ],
   "source": [
    "from datetime import date\n",
    "class Person:\n",
    "\n",
    "    def __init__(self, name, country, date_of_birth):\n",
    "        self.name = name\n",
    "        self.country = country\n",
    "        self.date_of_birth = date_of_birth\n",
    "       \n",
    "    def get_age(self):\n",
    "        current_year = date.today().year\n",
    "        return current_year - self.date_of_birth\n",
    "    \n",
    "    def __str__(self):\n",
    "        return f\"Hi, my name is {self.name} and I'm from {self.country}\"\n",
    "    \n",
    "p = Person(\"Sanjar\", \"Uzbekistan\", 1991)\n",
    "print(p)\n",
    "\n",
    "print(f\"I'm {p.get_age()}\")\n"
   ]
  },
  {
   "cell_type": "markdown",
   "id": "e5b3c090",
   "metadata": {},
   "source": [
    "### 3. Calculator Class\n",
    "#### Write a Python program to create a Calculator class. Include methods for basic arithmetic operations.\n",
    "\n"
   ]
  },
  {
   "cell_type": "code",
   "execution_count": 26,
   "id": "030c0729",
   "metadata": {},
   "outputs": [
    {
     "name": "stdout",
     "output_type": "stream",
     "text": [
      "Add:         15\n",
      "Subtract:    5\n",
      "Multiply:    50\n",
      "Divide:      2\n",
      "Divide by 0: Error: Cannot divide by zero.\n"
     ]
    }
   ],
   "source": [
    "class Calculator:\n",
    "    def add(self, a, b):\n",
    "        return a + b\n",
    "\n",
    "    def subtract(self, a, b):\n",
    "        return a - b\n",
    "\n",
    "    def multiply(self, a, b):\n",
    "        return a * b\n",
    "\n",
    "    def divide(self, a, b):\n",
    "        if b == 0:\n",
    "            return \"Error: Cannot divide by zero.\"\n",
    "        return int(a / b)\n",
    "\n",
    "\n",
    "calc = Calculator()\n",
    "\n",
    "print(\"Add:        \", calc.add(10, 5))        \n",
    "print(\"Subtract:   \", calc.subtract(10, 5))   \n",
    "print(\"Multiply:   \", calc.multiply(10, 5))   \n",
    "print(\"Divide:     \", calc.divide(10, 5))     \n",
    "print(\"Divide by 0:\", calc.divide(10, 0))     \n"
   ]
  },
  {
   "cell_type": "markdown",
   "id": "6068a3ef",
   "metadata": {},
   "source": [
    "### 4. Shape and Subclasses\n",
    "#### Write a Python program to create a class that represents a shape. Include methods to calculate its area and perimeter. Implement subclasses for different shapes like Circle, Triangle, and Square.\n",
    "\n"
   ]
  },
  {
   "cell_type": "code",
   "execution_count": 31,
   "id": "32925b48",
   "metadata": {},
   "outputs": [
    {
     "name": "stdout",
     "output_type": "stream",
     "text": [
      "Circle:\n",
      "  Area: 78.54\n",
      "  Perimeter: 31.42\n",
      "\n",
      "Triangle:\n",
      "  Area: 6.0\n",
      "  Perimeter: 12\n",
      "\n",
      "Square:\n",
      "  Area: 100\n",
      "  Perimeter: 40\n",
      "\n"
     ]
    }
   ],
   "source": [
    "import math\n",
    "\n",
    "class Shape:\n",
    "    def area(self):\n",
    "        raise NotImplementedError(\"Subclasses must implement this method.\")\n",
    "\n",
    "    def perimeter(self):\n",
    "        raise NotImplementedError(\"Subclasses must implement this method.\")\n",
    "\n",
    "# Subclass: Circle\n",
    "class Circle(Shape):\n",
    "    def __init__(self, radius):\n",
    "        self.radius = radius\n",
    "\n",
    "    def area(self):\n",
    "        return math.pi * self.radius ** 2\n",
    "\n",
    "    def perimeter(self):\n",
    "        return 2 * math.pi * self.radius\n",
    "\n",
    "# Subclass: Triangle\n",
    "class Triangle(Shape):\n",
    "    def __init__(self, a, b, c):  # sides of the triangle\n",
    "        self.a = a\n",
    "        self.b = b\n",
    "        self.c = c\n",
    "\n",
    "    def perimeter(self):\n",
    "        return self.a + self.b + self.c\n",
    "\n",
    "    def area(self):\n",
    "        # Using Heron's formula\n",
    "        s = self.perimeter() / 2\n",
    "        return math.sqrt(s * (s - self.a) * (s - self.b) * (s - self.c))\n",
    "    \n",
    "class Square(Shape):\n",
    "    def __init__(self, x):\n",
    "        self.x = x \n",
    "\n",
    "    def perimeter(self):\n",
    "        return 4 * self.x\n",
    "    \n",
    "    def area(self):\n",
    "        return self.x ** 2\n",
    "        \n",
    "\n",
    "# Example usage\n",
    "shapes = [\n",
    "    Circle(5),\n",
    "    Triangle(3, 4, 5),\n",
    "    Square(10)\n",
    "]\n",
    "\n",
    "for shape in shapes:\n",
    "    print(f\"{shape.__class__.__name__}:\")\n",
    "    print(\"  Area:\", round(shape.area(), 2))\n",
    "    print(\"  Perimeter:\", round(shape.perimeter(), 2))\n",
    "    print()\n"
   ]
  },
  {
   "cell_type": "markdown",
   "id": "0c8580f0",
   "metadata": {},
   "source": [
    "### 5. Binary Search Tree Class\n",
    "#### Write a Python program to create a class representing a binary search tree. Include methods for inserting and searching for elements in the binary tree.\n",
    "\n"
   ]
  },
  {
   "cell_type": "code",
   "execution_count": 32,
   "id": "5f51e81f",
   "metadata": {},
   "outputs": [
    {
     "name": "stdout",
     "output_type": "stream",
     "text": [
      "50 inserted as root.\n",
      "30 inserted to the left of 50\n",
      "70 inserted to the right of 50\n",
      "20 inserted to the left of 30\n",
      "40 inserted to the right of 30\n",
      "60 inserted to the left of 70\n",
      "80 inserted to the right of 70\n",
      "\n",
      "Search Results:\n",
      "Search 40: True\n",
      "Search 90: False\n"
     ]
    }
   ],
   "source": [
    "class Node:\n",
    "    def __init__(self, value):\n",
    "        self.value = value\n",
    "        self.left = None\n",
    "        self.right = None\n",
    "\n",
    "class BinarySearchTree:\n",
    "    def __init__(self):\n",
    "        self.root = None\n",
    "\n",
    "    # Method to insert a new value\n",
    "    def insert(self, value):\n",
    "        if self.root is None:\n",
    "            self.root = Node(value)\n",
    "            print(f\"{value} inserted as root.\")\n",
    "        else:\n",
    "            self._insert_recursive(self.root, value)\n",
    "\n",
    "    def _insert_recursive(self, current, value):\n",
    "        if value < current.value:\n",
    "            if current.left is None:\n",
    "                current.left = Node(value)\n",
    "                print(f\"{value} inserted to the left of {current.value}\")\n",
    "            else:\n",
    "                self._insert_recursive(current.left, value)\n",
    "        elif value > current.value:\n",
    "            if current.right is None:\n",
    "                current.right = Node(value)\n",
    "                print(f\"{value} inserted to the right of {current.value}\")\n",
    "            else:\n",
    "                self._insert_recursive(current.right, value)\n",
    "        else:\n",
    "            print(f\"{value} already exists in the BST. Skipping duplicate.\")\n",
    "\n",
    "    # Method to search for a value\n",
    "    def search(self, value):\n",
    "        return self._search_recursive(self.root, value)\n",
    "\n",
    "    def _search_recursive(self, current, value):\n",
    "        if current is None:\n",
    "            return False\n",
    "        if value == current.value:\n",
    "            return True\n",
    "        elif value < current.value:\n",
    "            return self._search_recursive(current.left, value)\n",
    "        else:\n",
    "            return self._search_recursive(current.right, value)\n",
    "\n",
    "# Example usage\n",
    "bst = BinarySearchTree()\n",
    "bst.insert(50)\n",
    "bst.insert(30)\n",
    "bst.insert(70)\n",
    "bst.insert(20)\n",
    "bst.insert(40)\n",
    "bst.insert(60)\n",
    "bst.insert(80)\n",
    "\n",
    "print(\"\\nSearch Results:\")\n",
    "print(\"Search 40:\", bst.search(40))  # True\n",
    "print(\"Search 90:\", bst.search(90))  # False\n"
   ]
  },
  {
   "cell_type": "markdown",
   "id": "70863898",
   "metadata": {},
   "source": [
    "### 6. Stack Data Structure\n",
    "#### Write a Python program to create a class representing a stack data structure. Include methods for pushing and popping elements.\n",
    "\n"
   ]
  },
  {
   "cell_type": "code",
   "execution_count": 2,
   "id": "eed1a66a",
   "metadata": {},
   "outputs": [
    {
     "name": "stdout",
     "output_type": "stream",
     "text": [
      "Pushed: 10\n",
      "Pushed: 20\n",
      "Pushed: 30\n",
      "Top item: 30\n",
      "Popped: 30\n",
      "Top item after pop: 20\n",
      "Stack size: 2\n"
     ]
    }
   ],
   "source": [
    "class Stack:\n",
    "    def __init__(self):\n",
    "        self.items = []\n",
    "\n",
    "    # Check if the stack is empty\n",
    "    def is_empty(self):\n",
    "        return len(self.items) == 0\n",
    "\n",
    "    # Push an item onto the stack\n",
    "    def push(self, item):\n",
    "        self.items.append(item)\n",
    "        print(f\"Pushed: {item}\")\n",
    "\n",
    "    # Pop an item off the stack\n",
    "    def pop(self):\n",
    "        if self.is_empty():\n",
    "            return \"Stack is empty. Cannot pop.\"\n",
    "        return self.items.pop()\n",
    "\n",
    "    # Peek at the top item without removing it\n",
    "    def peek(self):\n",
    "        if self.is_empty():\n",
    "            return \"Stack is empty. Nothing to peek.\"\n",
    "        return self.items[-1]\n",
    "\n",
    "    # Get the size of the stack\n",
    "    def size(self):\n",
    "        return len(self.items)\n",
    "\n",
    "# Example usage\n",
    "stack = Stack()\n",
    "\n",
    "stack.push(10)\n",
    "stack.push(20)\n",
    "stack.push(30)\n",
    "\n",
    "print(\"Top item:\", stack.peek())     # 30\n",
    "print(\"Popped:\", stack.pop())        # 30\n",
    "print(\"Top item after pop:\", stack.peek())  # 20\n",
    "print(\"Stack size:\", stack.size())   # 2\n"
   ]
  },
  {
   "cell_type": "markdown",
   "id": "6a64cbfe",
   "metadata": {},
   "source": [
    "### 7. Linked List Data Structure\n",
    "#### Write a Python program to create a class representing a linked list data structure. Include methods for displaying linked list data, inserting, and deleting nodes."
   ]
  },
  {
   "cell_type": "code",
   "execution_count": 3,
   "id": "3c2c43fa",
   "metadata": {},
   "outputs": [
    {
     "name": "stdout",
     "output_type": "stream",
     "text": [
      "Inserted 10 as head node.\n",
      "Inserted 20 at the end.\n",
      "Inserted 30 at the end.\n",
      "Linked List: 10 -> 20 -> 30 -> None\n",
      "Deleted 20 from the list.\n",
      "Linked List: 10 -> 30 -> None\n",
      "40 not found in the list.\n",
      "Linked List: 10 -> 30 -> None\n"
     ]
    }
   ],
   "source": [
    "# Node class to represent each element\n",
    "class Node:\n",
    "    def __init__(self, data):\n",
    "        self.data = data\n",
    "        self.next = None\n",
    "\n",
    "# LinkedList class\n",
    "class LinkedList:\n",
    "    def __init__(self):\n",
    "        self.head = None\n",
    "\n",
    "    # Insert a new node at the end\n",
    "    def insert(self, data):\n",
    "        new_node = Node(data)\n",
    "        if self.head is None:\n",
    "            self.head = new_node\n",
    "            print(f\"Inserted {data} as head node.\")\n",
    "        else:\n",
    "            current = self.head\n",
    "            while current.next:\n",
    "                current = current.next\n",
    "            current.next = new_node\n",
    "            print(f\"Inserted {data} at the end.\")\n",
    "\n",
    "    # Delete a node by value\n",
    "    def delete(self, key):\n",
    "        current = self.head\n",
    "\n",
    "        # Case: list is empty\n",
    "        if current is None:\n",
    "            print(\"List is empty.\")\n",
    "            return\n",
    "\n",
    "        # Case: head needs to be deleted\n",
    "        if current.data == key:\n",
    "            self.head = current.next\n",
    "            print(f\"Deleted {key} from head.\")\n",
    "            return\n",
    "\n",
    "        # Search for the key to delete\n",
    "        prev = None\n",
    "        while current and current.data != key:\n",
    "            prev = current\n",
    "            current = current.next\n",
    "\n",
    "        if current is None:\n",
    "            print(f\"{key} not found in the list.\")\n",
    "        else:\n",
    "            prev.next = current.next\n",
    "            print(f\"Deleted {key} from the list.\")\n",
    "\n",
    "    # Display the list\n",
    "    def display(self):\n",
    "        if self.head is None:\n",
    "            print(\"List is empty.\")\n",
    "        else:\n",
    "            current = self.head\n",
    "            print(\"Linked List:\", end=\" \")\n",
    "            while current:\n",
    "                print(current.data, end=\" -> \")\n",
    "                current = current.next\n",
    "            print(\"None\")\n",
    "\n",
    "# Example usage\n",
    "ll = LinkedList()\n",
    "\n",
    "ll.insert(10)\n",
    "ll.insert(20)\n",
    "ll.insert(30)\n",
    "ll.display()\n",
    "\n",
    "ll.delete(20)\n",
    "ll.display()\n",
    "\n",
    "ll.delete(40)  # Not in list\n",
    "ll.display()\n"
   ]
  }
 ],
 "metadata": {
  "kernelspec": {
   "display_name": "Python 3",
   "language": "python",
   "name": "python3"
  },
  "language_info": {
   "codemirror_mode": {
    "name": "ipython",
    "version": 3
   },
   "file_extension": ".py",
   "mimetype": "text/x-python",
   "name": "python",
   "nbconvert_exporter": "python",
   "pygments_lexer": "ipython3",
   "version": "3.13.3"
  }
 },
 "nbformat": 4,
 "nbformat_minor": 5
}
