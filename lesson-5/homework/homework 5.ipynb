{
 "cells": [
  {
   "cell_type": "markdown",
   "id": "e3d3bd91",
   "metadata": {},
   "source": [
    "### Lesson 1. Find leap year \n",
    "\n",
    "def is_leap(year): \"\"\" Determines whether a given year is a leap year.\n",
    "\n",
    "A year is a leap year if:\n",
    "- It is divisible by 4, and\n",
    "- It is NOT divisible by 100, unless it is also divisible by 400.\n",
    "\n",
    "Parameters:\n",
    "year (int): The year to be checked.\n",
    "\n",
    "Returns:\n",
    "bool: True if the year is a leap year, False otherwise.\n",
    "\"\"\"\n",
    "if not isinstance(year, int):\n",
    "    raise ValueError(\"Year must be an integer.\")\n",
    "\n",
    "return (year % 4 == 0 and year % 100 != 0) or (year % 400 == 0)"
   ]
  },
  {
   "cell_type": "code",
   "execution_count": 9,
   "id": "2e5831c9",
   "metadata": {},
   "outputs": [
    {
     "name": "stdout",
     "output_type": "stream",
     "text": [
      "TRUE.This is a leap year \n"
     ]
    }
   ],
   "source": [
    "year = int(input(\"Enter a year: \"))\n",
    "if (year % 4 == 0 and year % 100 != 0) or year % 400 ==0: \n",
    "    print(\"TRUE.This is a leap year \") \n",
    "else:\n",
    "    print(\"FALSE. This is not a leap year\")\n",
    "  \n"
   ]
  },
  {
   "cell_type": "markdown",
   "id": "76fd78af",
   "metadata": {},
   "source": [
    "### 2. Conditional Statements Exercise\n",
    "Given an integer, n, perform the following conditional actions:\n",
    "\n",
    "If n is odd, print Weird\n",
    "If n is even and in the inclusive range of 2 to 5, print Not Weird\n",
    "If n is even and in the inclusive range of 6 to 20, print Weird\n",
    "If n is even and greater than 20, print Not Weird\n",
    "Input Format\n",
    "A single line containing a positive integer, n.\n",
    "\n",
    "Constraints\n",
    "1 <= n <= 100\n",
    "Output Format\n",
    "Print Weird if the number is weird. Otherwise, print Not Weird.\n",
    "\n",
    "Sample Input 0\n",
    "3\n",
    "Sample Output 0\n",
    "Weird"
   ]
  },
  {
   "cell_type": "code",
   "execution_count": 23,
   "id": "a35bf6e4",
   "metadata": {},
   "outputs": [
    {
     "name": "stdout",
     "output_type": "stream",
     "text": [
      "Weird\n"
     ]
    }
   ],
   "source": [
    "number = int(input(\"Enter a number: \"))\n",
    "if number % 2 != 0:\n",
    "    print(\"Weird\")\n",
    "elif number % 2 == 0 and 2 <= number <= 5:\n",
    "    print(\"Not Weird\")\n",
    "elif number % 2 == 0 and 6 <= number <= 20:\n",
    "    print(\"Weird\")\n",
    "elif number % 2 == 0 and number > 20:\n",
    "    print(\"Not Weird\")\n",
    "    "
   ]
  },
  {
   "cell_type": "markdown",
   "id": "ab12cbf4",
   "metadata": {},
   "source": [
    "### 3. Given two integer numbers a and b. Find even numbers between this numbers. a and b are inclusive. Don't use loop."
   ]
  },
  {
   "cell_type": "code",
   "execution_count": 26,
   "id": "f5562bf6",
   "metadata": {},
   "outputs": [
    {
     "name": "stdout",
     "output_type": "stream",
     "text": [
      "[40, 42, 44, 46, 48, 50]\n"
     ]
    }
   ],
   "source": [
    "# Solution 1 (with if)\n",
    "\n",
    "a = int(input(\"Enter a: \"))\n",
    "b = int(input(\"Enter b: \"))\n",
    "\n",
    "if a % 2 != 0:\n",
    "    a += 1  \n",
    "even_numbers = list(range(a, b + 1, 2))\n",
    "print(even_numbers)\n"
   ]
  },
  {
   "cell_type": "code",
   "execution_count": 27,
   "id": "718e2fe9",
   "metadata": {},
   "outputs": [
    {
     "name": "stdout",
     "output_type": "stream",
     "text": [
      "[40, 42, 44, 46, 48, 50]\n"
     ]
    }
   ],
   "source": [
    "# solution 2 (without if)\n",
    "a = int(input(\"Enter a: \"))\n",
    "b = int(input(\"Enter b: \"))\n",
    "\n",
    "even_numbers = list(range(a + (a % 2), b + 1, 2))\n",
    "print(even_numbers)\n"
   ]
  }
 ],
 "metadata": {
  "kernelspec": {
   "display_name": "Python 3",
   "language": "python",
   "name": "python3"
  },
  "language_info": {
   "codemirror_mode": {
    "name": "ipython",
    "version": 3
   },
   "file_extension": ".py",
   "mimetype": "text/x-python",
   "name": "python",
   "nbconvert_exporter": "python",
   "pygments_lexer": "ipython3",
   "version": "3.13.3"
  }
 },
 "nbformat": 4,
 "nbformat_minor": 5
}
