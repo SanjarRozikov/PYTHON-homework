{
 "cells": [
  {
   "cell_type": "markdown",
   "id": "f3fc45bd",
   "metadata": {},
   "source": [
    "\n",
    "## 1. Sort a Dictionary by Value\n",
    "### Write a Python script to sort (ascending and descending) a dictionary by value.\n",
    "\n"
   ]
  },
  {
   "cell_type": "code",
   "execution_count": 6,
   "id": "99c309bb",
   "metadata": {},
   "outputs": [
    {
     "name": "stdout",
     "output_type": "stream",
     "text": [
      "Ascending order by value:\n",
      "{'matiz': 5, 'Nexia': 10, 'lamborgini': 25, 'bugatti': 40}\n",
      "Descending order by value:\n",
      "{'bugatti': 40, 'lamborgini': 25, 'Nexia': 10, 'matiz': 5}\n"
     ]
    }
   ],
   "source": [
    "my_dict = {\"lamborgini\": 25, \"bugatti\": 40, \"matiz\": 5, \"Nexia\": 10,}\n",
    "my_dict\n",
    "\n",
    "asc_sorted = dict(sorted(my_dict.items(), key = lambda item: item[1]))\n",
    "print(\"Ascending order by value:\")\n",
    "print(asc_sorted)\n",
    "\n",
    "desc_sorted = dict(sorted(my_dict.items(), key = lambda item: item[1], reverse=True))\n",
    "print(\"Descending order by value:\")\n",
    "print(desc_sorted)"
   ]
  },
  {
   "cell_type": "markdown",
   "id": "cce6e217",
   "metadata": {},
   "source": [
    "## 2. Add a Key to a Dictionary\n",
    "### Write a Python script to add a key to a dictionary.\n",
    "\n",
    "Sample Dictionary:\n",
    "\n",
    " {0: 10, 1: 20}"
   ]
  },
  {
   "cell_type": "code",
   "execution_count": 13,
   "id": "f2f13744",
   "metadata": {},
   "outputs": [
    {
     "name": "stdout",
     "output_type": "stream",
     "text": [
      "{0: 10, 1: 20, 2: 30}\n"
     ]
    }
   ],
   "source": [
    "my_number_dict = {0:10,1:20}\n",
    "my_number_dict\n",
    "my_number_dict.update({2:30})\n",
    "print(my_number_dict)"
   ]
  },
  {
   "cell_type": "markdown",
   "id": "bee3b270",
   "metadata": {},
   "source": [
    "## 3. Concatenate Multiple Dictionaries\n",
    "### Write a Python script to concatenate the following dictionaries to create a new one."
   ]
  },
  {
   "cell_type": "code",
   "execution_count": 7,
   "id": "1613556d",
   "metadata": {},
   "outputs": [
    {
     "name": "stdout",
     "output_type": "stream",
     "text": [
      "{1: 10, 2: 20, 3: 30, 4: 40, 5: 50, 6: 60}\n"
     ]
    }
   ],
   "source": [
    "dict1 = {1:10, 2:20}\n",
    "dict2 = {3:30, 4:40}\n",
    "dict3 = {5:50, 6:60}\n",
    "\n",
    "merged = dict1 | dict2 | dict3\n",
    "\n",
    "print(merged)\n"
   ]
  },
  {
   "cell_type": "markdown",
   "id": "104e0f79",
   "metadata": {},
   "source": [
    "### or "
   ]
  },
  {
   "cell_type": "code",
   "execution_count": 9,
   "id": "59cd78db",
   "metadata": {},
   "outputs": [
    {
     "name": "stdout",
     "output_type": "stream",
     "text": [
      "{1: 10, 2: 20, 3: 30, 4: 40, 5: 50, 6: 60}\n"
     ]
    }
   ],
   "source": [
    "dict1 = {1:10, 2:20}\n",
    "dict2 = {3:30, 4:40}\n",
    "dict3 = {5:50, 6:60}\n",
    "\n",
    "merged = {**dict1,**dict2,**dict3}\n",
    "\n",
    "print(merged)"
   ]
  },
  {
   "cell_type": "markdown",
   "id": "eacfd6ad",
   "metadata": {},
   "source": [
    "## 4. Generate a Dictionary with Squares\n",
    "### Write a Python script to generate and print a dictionary that contains a number (between 1 and n) in the form (x, x*x).\n",
    "\n"
   ]
  },
  {
   "cell_type": "code",
   "execution_count": 16,
   "id": "74feb71d",
   "metadata": {},
   "outputs": [
    {
     "name": "stdout",
     "output_type": "stream",
     "text": [
      "Generated dictionary: {1: 1, 2: 4, 3: 9, 4: 16, 5: 25}\n"
     ]
    }
   ],
   "source": [
    "n = int(input(\"Enter a number:\"))\n",
    "square_dict_number = {x:x*x for x in range(1, n+1)}\n",
    "\n",
    "print(\"Generated dictionary:\", square_dict_number)\n"
   ]
  },
  {
   "cell_type": "markdown",
   "id": "a86ce421",
   "metadata": {},
   "source": [
    "## 5. Dictionary of Squares (1 to 15)\n",
    "### Write a Python script to print a dictionary where the keys are numbers between 1 and 15 (both included) and the values are the square of the keys.\n",
    "##### Expected output {1: 1, 2: 4, 3: 9, 4: 16, 5: 25, 6: 36, 7: 49, 8: 64, 9: 81, 10: 100, 11: 121, 12: 144, 13: 169, 14: 196, 15: 225}"
   ]
  },
  {
   "cell_type": "code",
   "execution_count": 22,
   "id": "737dd700",
   "metadata": {},
   "outputs": [
    {
     "name": "stdout",
     "output_type": "stream",
     "text": [
      "Dictionaries with square from 1 to 15: {1: 1, 2: 4, 3: 9, 4: 16, 5: 25, 6: 36, 7: 49, 8: 64, 9: 81, 10: 100, 11: 121, 12: 144, 13: 169, 14: 196, 15: 225}\n"
     ]
    }
   ],
   "source": [
    "square_dict = {}\n",
    "\n",
    "for a in range(1,16): square_dict[a] = a * a \n",
    "\n",
    "print(\"Dictionaries with square from 1 to 15:\", square_dict)"
   ]
  },
  {
   "cell_type": "markdown",
   "id": "7588bff2",
   "metadata": {},
   "source": [
    "## Set Exercises\n",
    "## 1. Create a Set\n",
    "### Write a Python program to create a set.\n",
    "\n"
   ]
  },
  {
   "cell_type": "code",
   "execution_count": 34,
   "id": "ffa3f760",
   "metadata": {},
   "outputs": [
    {
     "data": {
      "text/plain": [
       "{'Anna', 'Charles', 'Dana', 'Emma', 'John', 'Michael'}"
      ]
     },
     "execution_count": 34,
     "metadata": {},
     "output_type": "execute_result"
    }
   ],
   "source": [
    "my_set = {\"John\", \"Michael\", \"Dana\", \"Charles\", \"Anna\",\"Emma\"}\n",
    "my_set"
   ]
  },
  {
   "cell_type": "markdown",
   "id": "00bdea0c",
   "metadata": {},
   "source": [
    "### or"
   ]
  },
  {
   "cell_type": "code",
   "execution_count": 33,
   "id": "286b911f",
   "metadata": {},
   "outputs": [
    {
     "name": "stdout",
     "output_type": "stream",
     "text": [
      "{'John', 'Dana', 'Michael', 'Anna', 'Emma', 'Charles'}\n"
     ]
    }
   ],
   "source": [
    "my_list = [\"John\", \"Michael\", \"Dana\", \"Charles\", \"Anna\",\"Emma\"]\n",
    "my_set = set(my_list)\n",
    "my_set\n",
    "print(my_set)"
   ]
  },
  {
   "cell_type": "markdown",
   "id": "edf3d6a5",
   "metadata": {},
   "source": [
    "## 2. Iterate Over a Set\n",
    "### Write a Python program to iterate over sets.\n",
    "\n"
   ]
  },
  {
   "cell_type": "code",
   "execution_count": 37,
   "id": "012906e1",
   "metadata": {},
   "outputs": [
    {
     "name": "stdout",
     "output_type": "stream",
     "text": [
      "John\n",
      "Anna\n",
      "Emma\n",
      "Dana\n",
      "Charles\n",
      "Michael\n"
     ]
    }
   ],
   "source": [
    "my_set\n",
    "\n",
    "for name in my_set:\n",
    "    print(name)"
   ]
  },
  {
   "cell_type": "markdown",
   "id": "12f6a3a5",
   "metadata": {},
   "source": [
    "## 3. Add Member(s) to a Set\n",
    "### Write a Python program to add member(s) to a set.\n",
    "\n"
   ]
  },
  {
   "cell_type": "code",
   "execution_count": null,
   "id": "799c77c4",
   "metadata": {},
   "outputs": [
    {
     "data": {
      "text/plain": [
       "{'Anna', 'Charles', 'Dana', 'Emma', 'John', 'Michael', 'Paris'}"
      ]
     },
     "execution_count": 41,
     "metadata": {},
     "output_type": "execute_result"
    }
   ],
   "source": [
    "my_set.add('Paris')\n",
    "my_set\n"
   ]
  },
  {
   "cell_type": "markdown",
   "id": "f6b5f30f",
   "metadata": {},
   "source": [
    "## 4. Remove Item(s) from a Set\n",
    "### Write a Python program to remove item(s) from a given set.\n",
    "\n"
   ]
  },
  {
   "cell_type": "code",
   "execution_count": 54,
   "id": "67f5cfc6",
   "metadata": {},
   "outputs": [
    {
     "name": "stdout",
     "output_type": "stream",
     "text": [
      "{'Paris', 'Dana', 'Charles', 'Sanjar', 'Sardor', 'Michael'}\n"
     ]
    }
   ],
   "source": [
    "my_set = {'Anna', 'Charles', 'Dana', 'Michael', 'Paris', 'Sanjar', 'Sardor'}\n",
    "my_set.remove('Anna')\n",
    "print(my_set)"
   ]
  },
  {
   "cell_type": "markdown",
   "id": "c6b1935e",
   "metadata": {},
   "source": [
    "### or "
   ]
  },
  {
   "cell_type": "code",
   "execution_count": 60,
   "id": "26f658e2",
   "metadata": {},
   "outputs": [
    {
     "name": "stdout",
     "output_type": "stream",
     "text": [
      "Original set: {'banana', 'cherry', 'mango', 'apple'}\n",
      "Updated set: {'banana', 'mango', 'apple'}\n"
     ]
    }
   ],
   "source": [
    "# Initial set\n",
    "my_set = {\"apple\", \"banana\", \"cherry\", \"mango\"}\n",
    "\n",
    "print(\"Original set:\", my_set)\n",
    "\n",
    "# Ask user which item to remove\n",
    "item_to_remove = input(\"Enter the item you want to remove: \")\n",
    "\n",
    "# Option 1: Using discard (safe way)\n",
    "my_set.discard(item_to_remove)\n",
    "\n",
    "# Option 2: You could also use remove(), but it raises an error if the item doesn't exist:\n",
    "# my_set.remove(item_to_remove)\n",
    "\n",
    "print(\"Updated set:\", my_set)\n"
   ]
  },
  {
   "cell_type": "markdown",
   "id": "0f8178cb",
   "metadata": {},
   "source": [
    "## 5. Remove an Item if Present in the Set\n",
    "### Write a Python program to remove an item from a set if it is present in the set.\n",
    "\n"
   ]
  },
  {
   "cell_type": "code",
   "execution_count": 61,
   "id": "2900b8ea",
   "metadata": {},
   "outputs": [
    {
     "name": "stdout",
     "output_type": "stream",
     "text": [
      "Item 2 removed.\n",
      "Updated set: {1, 3, 4, 5}\n"
     ]
    }
   ],
   "source": [
    "\n",
    "my_set = {1, 2, 3, 4, 5}\n",
    "\n",
    "item = 2\n",
    "\n",
    "if item in my_set:\n",
    "    my_set.remove(item)\n",
    "    print(f\"Item {item} removed.\")\n",
    "else:\n",
    "    print(f\"Item {item} not found in the set.\")\n",
    "\n",
    "print(\"Updated set:\", my_set)\n"
   ]
  }
 ],
 "metadata": {
  "kernelspec": {
   "display_name": "Python 3",
   "language": "python",
   "name": "python3"
  },
  "language_info": {
   "codemirror_mode": {
    "name": "ipython",
    "version": 3
   },
   "file_extension": ".py",
   "mimetype": "text/x-python",
   "name": "python",
   "nbconvert_exporter": "python",
   "pygments_lexer": "ipython3",
   "version": "3.13.3"
  }
 },
 "nbformat": 4,
 "nbformat_minor": 5
}
