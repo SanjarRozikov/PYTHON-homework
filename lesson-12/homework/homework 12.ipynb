{
 "cells": [
  {
   "cell_type": "markdown",
   "id": "dded538c",
   "metadata": {},
   "source": [
    "### Exercise 1: Threaded Prime Number Checker\n",
    "\n",
    "Write a Python program that checks whether a given range of numbers contains prime numbers. Divide the range among multiple threads to parallelize the prime checking process. Each thread should be responsible for checking a subset of the range, and the main program should print the list of prime numbers found."
   ]
  },
  {
   "cell_type": "code",
   "execution_count": null,
   "id": "110a5d46",
   "metadata": {},
   "outputs": [],
   "source": [
    "import threading\n",
    "\n",
    "def is_prime(n):\n",
    "    if n < 2:\n",
    "        return False\n",
    "    for i in range(2, int(n**0.5) + 1):\n",
    "        if n % i == 0:\n",
    "            return False\n",
    "    return True\n",
    "\n",
    "def check_primes(start, end, result_list):\n",
    "    for number in range(start, end):\n",
    "        if is_prime(number):\n",
    "            result_list.append(number)\n",
    "\n",
    "def threaded_prime_checker(start, end, num_threads=4):\n",
    "    threads = []\n",
    "    result = []\n",
    "    step = (end - start) // num_threads\n",
    "    partial_results = [[] for _ in range(num_threads)]\n",
    "\n",
    "    for i in range(num_threads):\n",
    "        sub_start = start + i * step\n",
    "        sub_end = end if i == num_threads - 1 else sub_start + step\n",
    "        thread = threading.Thread(target=check_primes, args=(sub_start, sub_end, partial_results[i]))\n",
    "        threads.append(thread)\n",
    "        thread.start()\n",
    "\n",
    "    for thread in threads:\n",
    "        thread.join()\n",
    "\n",
    "    for part in partial_results:\n",
    "        result.extend(part)\n",
    "\n",
    "    print(\"Prime numbers:\", sorted(result))\n",
    "\n",
    "# Example usage\n",
    "threaded_prime_checker(1, 100, num_threads=4)\n"
   ]
  },
  {
   "cell_type": "markdown",
   "id": "60d85c85",
   "metadata": {},
   "source": [
    "### Exercise 2: Threaded File Processing\n",
    "\n",
    "Write a program that reads a large text file containing lines of text. Implement a threaded solution to count the occurrence of each word in the file. Each thread should process a portion of the file, and the main program should display a summary of word occurrences across all threads."
   ]
  },
  {
   "cell_type": "code",
   "execution_count": null,
   "id": "4f104c52",
   "metadata": {},
   "outputs": [],
   "source": [
    "import threading\n",
    "from collections import defaultdict\n",
    "\n",
    "def count_words(lines, result_dict, lock):\n",
    "    local_count = defaultdict(int)\n",
    "    for line in lines:\n",
    "        words = line.strip().split()\n",
    "        for word in words:\n",
    "            local_count[word.lower()] += 1\n",
    "\n",
    "    # Safely merge local count into shared dictionary\n",
    "    with lock:\n",
    "        for word, count in local_count.items():\n",
    "            result_dict[word] += count\n",
    "\n",
    "def threaded_word_counter(filename, num_threads=4):\n",
    "    with open(filename, 'r', encoding='utf-8') as f:\n",
    "        lines = f.readlines()\n",
    "\n",
    "    total_lines = len(lines)\n",
    "    step = total_lines // num_threads\n",
    "    threads = []\n",
    "    word_counts = defaultdict(int)\n",
    "    lock = threading.Lock()\n",
    "\n",
    "    for i in range(num_threads):\n",
    "        start = i * step\n",
    "        end = total_lines if i == num_threads - 1 else start + step\n",
    "        thread = threading.Thread(target=count_words, args=(lines[start:end], word_counts, lock))\n",
    "        threads.append(thread)\n",
    "        thread.start()\n",
    "\n",
    "    for thread in threads:\n",
    "        thread.join()\n",
    "\n",
    "    print(\"Word Count Summary:\")\n",
    "    for word, count in sorted(word_counts.items()):\n",
    "        print(f\"{word}: {count}\")\n",
    "\n",
    "# Example usage\n",
    "# Save a test file named 'sample.txt' before running this\n",
    "# threaded_word_counter('sample.txt', num_threads=4)\n"
   ]
  }
 ],
 "metadata": {
  "language_info": {
   "name": "python"
  }
 },
 "nbformat": 4,
 "nbformat_minor": 5
}
