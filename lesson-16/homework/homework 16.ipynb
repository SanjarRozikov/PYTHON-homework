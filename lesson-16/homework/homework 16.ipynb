{
 "cells": [
  {
   "cell_type": "markdown",
   "id": "932d4fc0",
   "metadata": {},
   "source": [
    "### 1. Convert List to 1D Array\n",
    "#### Write a NumPy program to convert a list of numeric values into a one-dimensional NumPy array.\n",
    "\n",
    "#### Expected Output:\n",
    "\n",
    "#### Original List: [12.23, 13.32, 100, 36.32] One-dimensional NumPy array: [ 12.23 13.32 100. 36.32]"
   ]
  },
  {
   "cell_type": "code",
   "execution_count": 13,
   "id": "52e3f75f",
   "metadata": {},
   "outputs": [
    {
     "name": "stdout",
     "output_type": "stream",
     "text": [
      "[ 12.23  13.32 100.    36.32]\n"
     ]
    }
   ],
   "source": [
    "import numpy as np\n",
    "\n",
    "my_list = np.array([12.23, 13.32, 100, 36.32])\n",
    "my_array = my_list\n",
    "type(my_array)\n",
    "print(my_array)"
   ]
  },
  {
   "cell_type": "markdown",
   "id": "d616eba5",
   "metadata": {},
   "source": [
    "### 2. Create 3x3 Matrix (2?10)\n",
    "#### Write a NumPy program to create a 3x3 matrix with values ranging from 2 to 10.\n",
    "\n",
    "#### Expected Output:\n",
    "\n",
    "##### [[ 2 3 4] [ 5 6 7] [ 8 9 10]]"
   ]
  },
  {
   "cell_type": "code",
   "execution_count": 15,
   "id": "5005cdb0",
   "metadata": {},
   "outputs": [
    {
     "name": "stdout",
     "output_type": "stream",
     "text": [
      "[[ 2  3  4]\n",
      " [ 5  6  7]\n",
      " [ 8  9 10]]\n"
     ]
    }
   ],
   "source": [
    "import numpy as np\n",
    "\n",
    "array = np.arange(2, 11)\n",
    "\n",
    "matrix = array.reshape(3, 3)\n",
    "\n",
    "print(matrix)\n"
   ]
  },
  {
   "cell_type": "markdown",
   "id": "8b270dff",
   "metadata": {},
   "source": [
    "### 3. Null Vector (10) & Update Sixth Value\n",
    "\n",
    "#### Write a NumPy program to create a null vector of size 10 and update the sixth value to 11.\n",
    "\n",
    "#### [ 0. 0. 0. 0. 0. 0. 0. 0. 0. 0.]\n",
    "\n",
    "#### Update sixth value to 11 [ 0. 0. 0. 0. 0. 0. 11. 0. 0. 0.]"
   ]
  },
  {
   "cell_type": "code",
   "execution_count": 2,
   "id": "a5bdddc3",
   "metadata": {},
   "outputs": [
    {
     "name": "stdout",
     "output_type": "stream",
     "text": [
      "[ 0.  0.  0.  0.  0.  0. 11.  0.  0.  0.]\n"
     ]
    }
   ],
   "source": [
    "import numpy as np\n",
    "\n",
    "# Create a null (zero) vector of size 10\n",
    "vector = np.zeros(10)\n",
    "\n",
    "# Update the sixth value (index 6, since indexing starts from 0)\n",
    "vector[6] = 11\n",
    "\n",
    "print(vector)\n"
   ]
  },
  {
   "cell_type": "markdown",
   "id": "6473a1bc",
   "metadata": {},
   "source": [
    "### 4. Array from 12 to 38\n",
    "#### Write a NumPy program to create an array with values ranging from 12 to 38.\n",
    "\n",
    "#### Expected Output:\n",
    "\n",
    "#### [12 13 14 15 16 17 18 19 20 21 22 23 24 25 26 27 28 29 30 31 32 33 34 35 36 37]"
   ]
  },
  {
   "cell_type": "code",
   "execution_count": 3,
   "id": "890e2cd0",
   "metadata": {},
   "outputs": [
    {
     "name": "stdout",
     "output_type": "stream",
     "text": [
      "[ 2  3  4  5  6  7  8  9 10 11 12 13 14 15 16 17 18 19 20 21 22 23 24 25\n",
      " 26 27 28 29 30 31 32 33 34 35 36 37]\n"
     ]
    }
   ],
   "source": [
    "my_arr = np.arange(2,38)\n",
    "print(my_arr)"
   ]
  },
  {
   "cell_type": "markdown",
   "id": "9ce816d1",
   "metadata": {},
   "source": [
    "### 5. Convert Array to Float Type\n",
    "#### Write a NumPy program to convert an array to a floating type.\n",
    "\n",
    "#### Sample output:\n",
    "\n",
    "#### Original array [1, 2, 3, 4]"
   ]
  },
  {
   "cell_type": "code",
   "execution_count": 18,
   "id": "4727c075",
   "metadata": {},
   "outputs": [
    {
     "data": {
      "text/plain": [
       "array([1., 2., 3., 4.])"
      ]
     },
     "execution_count": 18,
     "metadata": {},
     "output_type": "execute_result"
    }
   ],
   "source": [
    "my_list = [1, 2, 3, 4]\n",
    "my_array1 = np.array(my_list)\n",
    "\n",
    "float_arr = my_array1.astype(float)\n",
    "float_arr"
   ]
  },
  {
   "cell_type": "markdown",
   "id": "3472797c",
   "metadata": {},
   "source": [
    "### 6. Celsius to Fahrenheit Conversion\n",
    "#### Write a NumPy program to convert Centigrade degrees into Fahrenheit degrees. Centigrade values are stored in a NumPy array.\n",
    "\n",
    "#### Sample Array [0, 12, 45.21, 34, 99.91] [-17.78, -11.11, 7.34, 1.11, 37.73, 0. ]\n",
    "\n",
    "#### Expected Output:\n",
    "\n",
    "#### Values in Fahrenheit degrees: [ 0. 12. 45.21 34. 99.91 32. ]\n",
    "\n",
    "#### Values in Centigrade degrees: [-17.78 -11.11 7.34 1.11 37.73 0. ]\n",
    "\n",
    "#### Values in Centigrade degrees: [-17.78 -11.11 7.34 1.11 37.73 0. ]\n",
    "\n",
    "#### Values in Fahrenheit degrees: [-0. 12. 45.21 34. 99.91 32. ]"
   ]
  },
  {
   "cell_type": "code",
   "execution_count": 27,
   "id": "44b13fa2",
   "metadata": {},
   "outputs": [
    {
     "name": "stdout",
     "output_type": "stream",
     "text": [
      "Values in Fahrenheit degrees: [ 32.    53.6  113.38  93.2  211.84  -0.    12.    45.21  34.    99.91\n",
      "  32.  ]\n"
     ]
    }
   ],
   "source": [
    "import numpy as np\n",
    "\n",
    "# Define Celsius arrays (corrected format)\n",
    "celsius1 = np.array([0, 12, 45.21, 34, 99.91])\n",
    "celsius2 = np.array([-17.78, -11.11, 7.34, 1.11, 37.73, 0.])\n",
    "\n",
    "# Combine both arrays into one\n",
    "celsius_combined = np.concatenate((celsius1, celsius2))\n",
    "\n",
    "# Convert to Fahrenheit\n",
    "fahrenheit = celsius_combined * 9 / 5 + 32\n",
    "\n",
    "# Print result\n",
    "print(\"Values in Fahrenheit degrees:\", np.round(fahrenheit, 2))\n"
   ]
  },
  {
   "cell_type": "markdown",
   "id": "2518cfbd",
   "metadata": {},
   "source": [
    "### 7. Append Values to Array (Do self-tudy)\n",
    "#### Write a NumPy program to append values to the end of an array.\n",
    "\n",
    "#### Expected Output:\n",
    "\n",
    "#### Original array: [10, 20, 30]\n",
    "\n",
    "#### After append values to the end of the array: [10 20 30 40 50 60 70 80 90]"
   ]
  },
  {
   "cell_type": "code",
   "execution_count": 35,
   "id": "7451ec2c",
   "metadata": {},
   "outputs": [
    {
     "name": "stdout",
     "output_type": "stream",
     "text": [
      "[10 20 30 40 50 60 70 80 90]\n"
     ]
    }
   ],
   "source": [
    "import numpy as np\n",
    "\n",
    "arr = np.array([10, 20, 30])\n",
    "new_arr = np.append(arr, [40, 50, 60, 70, 80, 90])\n",
    "\n",
    "print(new_arr) \n"
   ]
  },
  {
   "cell_type": "markdown",
   "id": "8e283524",
   "metadata": {},
   "source": [
    "### 8.Array Statistical Functions (Do self-tudy)\n",
    "### Create a random NumPy array of 10 elements and calculate the mean, median, and standard deviation of the array."
   ]
  },
  {
   "cell_type": "code",
   "execution_count": 36,
   "id": "c6d538b2",
   "metadata": {},
   "outputs": [
    {
     "name": "stdout",
     "output_type": "stream",
     "text": [
      "Array: [0.81857411 0.74140811 0.20607129 0.86361092 0.74623186 0.54640149\n",
      " 0.74011263 0.7372882  0.58719899 0.48245946]\n",
      "Mean: 0.646935706543534\n",
      "Median: 0.7387004137377366\n",
      "Standard deviation: 0.18631361468246\n"
     ]
    }
   ],
   "source": [
    "import numpy as np\n",
    "\n",
    "# 1. Create a random array with 10 elements\n",
    "arr = np.random.rand(10)        # values in the range [0, 1)\n",
    "\n",
    "# 2. Compute statistics\n",
    "mean_val   = np.mean(arr)\n",
    "median_val = np.median(arr)\n",
    "std_val    = np.std(arr)\n",
    "\n",
    "print(\"Array:\", arr)\n",
    "print(\"Mean:\", mean_val)\n",
    "print(\"Median:\", median_val)\n",
    "print(\"Standard deviation:\", std_val)\n"
   ]
  },
  {
   "cell_type": "markdown",
   "id": "88b450bf",
   "metadata": {},
   "source": [
    "### 9. Find min and max\n",
    "#### Create a 10x10 array with random values and find the minimum and maximum values."
   ]
  },
  {
   "cell_type": "code",
   "execution_count": 39,
   "id": "14b00b1b",
   "metadata": {},
   "outputs": [
    {
     "name": "stdout",
     "output_type": "stream",
     "text": [
      "10x10 Random Array:\n",
      " [[0.22957696 0.5485383  0.25912266 0.44668111 0.86057105 0.49393125\n",
      "  0.63048018 0.21559534 0.07480683 0.97218793]\n",
      " [0.29659825 0.15914311 0.43721257 0.93529315 0.62246514 0.34007841\n",
      "  0.02577819 0.22230811 0.43340234 0.19330001]\n",
      " [0.86360643 0.98091317 0.11703771 0.63132433 0.46615286 0.4220653\n",
      "  0.5134285  0.94652269 0.39359246 0.07381023]\n",
      " [0.02439404 0.80888753 0.18923773 0.87408778 0.87598573 0.04527877\n",
      "  0.3858473  0.7234505  0.14915414 0.38285262]\n",
      " [0.61993091 0.28402365 0.16936449 0.63561328 0.48956525 0.05680478\n",
      "  0.52362364 0.1139707  0.66173433 0.10181531]\n",
      " [0.47185144 0.73974863 0.40548894 0.27420924 0.62023944 0.96106792\n",
      "  0.88796302 0.14635682 0.27166853 0.94169784]\n",
      " [0.69903643 0.89186015 0.83400826 0.00483223 0.32829136 0.32625458\n",
      "  0.23428508 0.6776095  0.86661135 0.03312674]\n",
      " [0.9987685  0.08029783 0.28135115 0.27346771 0.7497939  0.40368318\n",
      "  0.30098439 0.95309516 0.8428959  0.23484668]\n",
      " [0.25501082 0.21170478 0.65121669 0.77283623 0.78205235 0.89119403\n",
      "  0.86888689 0.70481203 0.42209093 0.18021857]\n",
      " [0.01783461 0.66261153 0.46881048 0.68046114 0.76674104 0.51172327\n",
      "  0.72802367 0.88520607 0.56778686 0.40249307]]\n",
      "Minimum value: 0.004832228178331621\n",
      "Maximum value: 0.9987685036662354\n"
     ]
    }
   ],
   "source": [
    "import numpy as np\n",
    "\n",
    "# 1. Create a 10x10 array with random values\n",
    "arr = np.random.rand(10, 10)  # values in the range [0, 1)\n",
    "\n",
    "# 2. Find min and max\n",
    "min_val = np.min(arr)\n",
    "max_val = np.max(arr)\n",
    "\n",
    "# 3. Print results\n",
    "print(\"10x10 Random Array:\\n\", arr)\n",
    "print(\"Minimum value:\", min_val)\n",
    "print(\"Maximum value:\", max_val)\n"
   ]
  },
  {
   "cell_type": "markdown",
   "id": "bd695953",
   "metadata": {},
   "source": [
    "### 10\n",
    "Create a 3x3x3 array with random values."
   ]
  },
  {
   "cell_type": "code",
   "execution_count": 38,
   "id": "a55b72a8",
   "metadata": {},
   "outputs": [
    {
     "name": "stdout",
     "output_type": "stream",
     "text": [
      "3x3x3 Random Array:\n",
      " [[[0.50976799 0.0492905  0.19406946]\n",
      "  [0.44637886 0.60488649 0.65321957]\n",
      "  [0.48783188 0.84782759 0.90126027]]\n",
      "\n",
      " [[0.93417928 0.73432738 0.18147586]\n",
      "  [0.76303812 0.8222483  0.26523189]\n",
      "  [0.48738949 0.83999904 0.08599726]]\n",
      "\n",
      " [[0.18867235 0.80219538 0.61947574]\n",
      "  [0.7628706  0.64951779 0.95386498]\n",
      "  [0.8065407  0.3284045  0.01801773]]]\n"
     ]
    }
   ],
   "source": [
    "import numpy as np\n",
    "\n",
    "# Create a 3x3x3 array with random float values in [0, 1)\n",
    "arr = np.random.rand(3, 3, 3)\n",
    "\n",
    "print(\"3x3x3 Random Array:\\n\", arr)\n"
   ]
  }
 ],
 "metadata": {
  "kernelspec": {
   "display_name": "Python 3",
   "language": "python",
   "name": "python3"
  },
  "language_info": {
   "codemirror_mode": {
    "name": "ipython",
    "version": 3
   },
   "file_extension": ".py",
   "mimetype": "text/x-python",
   "name": "python",
   "nbconvert_exporter": "python",
   "pygments_lexer": "ipython3",
   "version": "3.13.3"
  }
 },
 "nbformat": 4,
 "nbformat_minor": 5
}
