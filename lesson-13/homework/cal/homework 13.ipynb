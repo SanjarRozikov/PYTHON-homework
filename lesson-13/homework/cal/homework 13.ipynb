{
 "cells": [
  {
   "cell_type": "markdown",
   "id": "8a2b0aba",
   "metadata": {},
   "source": [
    "### 1. Age Calculator"
   ]
  },
  {
   "cell_type": "code",
   "execution_count": null,
   "id": "285d3519",
   "metadata": {},
   "outputs": [],
   "source": [
    "from datetime import datetime\n",
    "\n",
    "birth_date_str = input(\"Enter your birthdate (YYYY-MM-DD): \")\n",
    "birth_date = datetime.strptime(birth_date_str, \"%Y-%m-%d\")\n",
    "today = datetime.today()\n",
    "\n",
    "years = today.year - birth_date.year\n",
    "months = today.month - birth_date.month\n",
    "days = today.day - birth_date.day\n",
    "\n",
    "if days < 0:\n",
    "    months -= 1\n",
    "    days += (birth_date.replace(month=birth_date.month + 1) - birth_date).days\n",
    "if months < 0:\n",
    "    years -= 1\n",
    "    months += 12\n",
    "\n",
    "print(f\"You are {years} years, {months} months, and {days} days old.\")"
   ]
  },
  {
   "cell_type": "markdown",
   "id": "8aae6384",
   "metadata": {},
   "source": [
    "### 2. Days Until Next Birthday"
   ]
  },
  {
   "cell_type": "code",
   "execution_count": null,
   "id": "9fe897a8",
   "metadata": {},
   "outputs": [],
   "source": [
    "from datetime import datetime, timedelta\n",
    "\n",
    "birth_date_str = input(\"Enter your birthdate (YYYY-MM-DD): \")\n",
    "birth_date = datetime.strptime(birth_date_str, \"%Y-%m-%d\")\n",
    "today = datetime.today()\n",
    "next_birthday = birth_date.replace(year=today.year)\n",
    "\n",
    "if next_birthday < today:\n",
    "    next_birthday = next_birthday.replace(year=today.year + 1)\n",
    "\n",
    "days_left = (next_birthday - today).days\n",
    "print(f\"Days until your next birthday: {days_left}\")\n"
   ]
  },
  {
   "cell_type": "markdown",
   "id": "99af819a",
   "metadata": {},
   "source": [
    "### 3. Meeting Scheduler"
   ]
  },
  {
   "cell_type": "code",
   "execution_count": null,
   "id": "cf79b5de",
   "metadata": {},
   "outputs": [],
   "source": [
    "from datetime import datetime, timedelta\n",
    "\n",
    "current = input(\"Enter current date and time (YYYY-MM-DD HH:MM): \")\n",
    "hours = int(input(\"Meeting duration hours: \"))\n",
    "minutes = int(input(\"Meeting duration minutes: \"))\n",
    "\n",
    "start_time = datetime.strptime(current, \"%Y-%m-%d %H:%M\")\n",
    "end_time = start_time + timedelta(hours=hours, minutes=minutes)\n",
    "\n",
    "print(\"Meeting ends at:\", end_time.strftime(\"%Y-%m-%d %H:%M\"))\n"
   ]
  },
  {
   "cell_type": "markdown",
   "id": "c9e7cbeb",
   "metadata": {},
   "source": [
    "### 4. Timezone Converter"
   ]
  },
  {
   "cell_type": "code",
   "execution_count": null,
   "id": "24c17789",
   "metadata": {},
   "outputs": [],
   "source": [
    "from datetime import datetime\n",
    "import pytz\n",
    "\n",
    "date_input = input(\"Enter date and time (YYYY-MM-DD HH:MM): \")\n",
    "from_tz = input(\"Enter your timezone (e.g. Asia/Tashkent): \")\n",
    "to_tz = input(\"Enter target timezone (e.g. US/Eastern): \")\n",
    "\n",
    "from_zone = pytz.timezone(from_tz)\n",
    "to_zone = pytz.timezone(to_tz)\n",
    "\n",
    "local_time = from_zone.localize(datetime.strptime(date_input, \"%Y-%m-%d %H:%M\"))\n",
    "converted_time = local_time.astimezone(to_zone)\n",
    "\n",
    "print(\"Converted time:\", converted_time.strftime(\"%Y-%m-%d %H:%M %Z%z\"))\n"
   ]
  },
  {
   "cell_type": "markdown",
   "id": "cba7f208",
   "metadata": {},
   "source": [
    "### 5. Countdown Timer"
   ]
  },
  {
   "cell_type": "code",
   "execution_count": null,
   "id": "8718a53c",
   "metadata": {},
   "outputs": [],
   "source": [
    "import time\n",
    "from datetime import datetime\n",
    "\n",
    "future = input(\"Enter future date and time (YYYY-MM-DD HH:MM:SS): \")\n",
    "future_time = datetime.strptime(future, \"%Y-%m-%d %H:%M:%S\")\n",
    "\n",
    "while True:\n",
    "    now = datetime.now()\n",
    "    diff = future_time - now\n",
    "    if diff.total_seconds() <= 0:\n",
    "        print(\"Countdown complete!\")\n",
    "        break\n",
    "    print(f\"Time remaining: {diff}\")\n",
    "    time.sleep(1)\n"
   ]
  },
  {
   "cell_type": "markdown",
   "id": "a315c3fd",
   "metadata": {},
   "source": [
    "### 6. Email Validator"
   ]
  },
  {
   "cell_type": "code",
   "execution_count": null,
   "id": "bfd97e7a",
   "metadata": {},
   "outputs": [],
   "source": [
    "import re\n",
    "\n",
    "email = input(\"Enter your email: \")\n",
    "pattern = r'^[\\w\\.-]+@[\\w\\.-]+\\.\\w+$'\n",
    "\n",
    "if re.match(pattern, email):\n",
    "    print(\"Valid email address.\")\n",
    "else:\n",
    "    print(\"Invalid email address.\")\n"
   ]
  },
  {
   "cell_type": "markdown",
   "id": "15ffb74a",
   "metadata": {},
   "source": [
    "### 7. Phone Number Formatter"
   ]
  },
  {
   "cell_type": "code",
   "execution_count": null,
   "id": "84e2b65d",
   "metadata": {},
   "outputs": [],
   "source": [
    "phone = input(\"Enter a 10-digit phone number: \")\n",
    "if len(phone) == 10 and phone.isdigit():\n",
    "    formatted = f\"({phone[:3]}) {phone[3:6]}-{phone[6:]}\"\n",
    "    print(\"Formatted:\", formatted)\n",
    "else:\n",
    "    print(\"Invalid phone number.\")\n"
   ]
  },
  {
   "cell_type": "markdown",
   "id": "201a1ba4",
   "metadata": {},
   "source": [
    "### 8. Password Strength Checker"
   ]
  },
  {
   "cell_type": "code",
   "execution_count": null,
   "id": "521cacf4",
   "metadata": {},
   "outputs": [],
   "source": [
    "import re\n",
    "\n",
    "password = input(\"Enter a password: \")\n",
    "\n",
    "if (len(password) >= 8 and\n",
    "    re.search(r'[A-Z]', password) and\n",
    "    re.search(r'[a-z]', password) and\n",
    "    re.search(r'\\d', password)):\n",
    "    print(\"Strong password.\")\n",
    "else:\n",
    "    print(\"Weak password. Must be at least 8 characters, include uppercase, lowercase, and a digit.\")\n"
   ]
  },
  {
   "cell_type": "markdown",
   "id": "91941574",
   "metadata": {},
   "source": [
    "### 9. Word Finder"
   ]
  },
  {
   "cell_type": "code",
   "execution_count": null,
   "id": "1cbd72ba",
   "metadata": {},
   "outputs": [],
   "source": [
    "text = \"\"\"This is a sample text. You can search a word in this text. Let's find the word you want.\"\"\"\n",
    "word = input(\"Enter the word to find: \")\n",
    "\n",
    "matches = [i for i in text.split() if word.lower() in i.lower()]\n",
    "print(f\"Found {len(matches)} occurrences: {matches}\")\n"
   ]
  },
  {
   "cell_type": "markdown",
   "id": "05039dce",
   "metadata": {},
   "source": [
    "### 10. Date Extractor"
   ]
  },
  {
   "cell_type": "code",
   "execution_count": null,
   "id": "63229886",
   "metadata": {},
   "outputs": [],
   "source": [
    "import re\n",
    "\n",
    "text = input(\"Enter text with dates: \")\n",
    "pattern = r'\\b\\d{4}-\\d{2}-\\d{2}\\b'\n",
    "\n",
    "dates = re.findall(pattern, text)\n",
    "print(\"Dates found:\", dates)\n"
   ]
  }
 ],
 "metadata": {
  "kernelspec": {
   "display_name": "Python 3",
   "language": "python",
   "name": "python3"
  },
  "language_info": {
   "codemirror_mode": {
    "name": "ipython",
    "version": 3
   },
   "file_extension": ".py",
   "mimetype": "text/x-python",
   "name": "python",
   "nbconvert_exporter": "python",
   "pygments_lexer": "ipython3",
   "version": "3.13.3"
  }
 },
 "nbformat": 4,
 "nbformat_minor": 5
}
