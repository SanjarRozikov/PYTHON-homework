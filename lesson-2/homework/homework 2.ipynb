{
 "cells": [
  {
   "cell_type": "markdown",
   "id": "a3354f6c",
   "metadata": {},
   "source": [
    "## 1. Age Calculator\n",
    "### Write a Python program to ask for a user's name and year of birth, then calculate and display their age."
   ]
  },
  {
   "cell_type": "code",
   "execution_count": 10,
   "id": "4320d363",
   "metadata": {},
   "outputs": [
    {
     "name": "stdout",
     "output_type": "stream",
     "text": [
      "Hello, Sanjar! You are 34 years old.\n"
     ]
    }
   ],
   "source": [
    "from datetime import date\n",
    "name = input('What is your name?:')\n",
    "year_of_birth = int(input('what is your birth'))\n",
    "\n",
    "current_year = date.today().year\n",
    "age = current_year - year_of_birth \n",
    "\n",
    "print(f'Hello, {name}! You are {age} years old.')\n"
   ]
  },
  {
   "cell_type": "markdown",
   "id": "a29122ca",
   "metadata": {},
   "source": [
    "## 2. Extract Car Names\n",
    "### Extract car names from the following text:\n",
    "txt = 'LMaasleitbtui'\n"
   ]
  },
  {
   "cell_type": "code",
   "execution_count": 6,
   "id": "7263d086",
   "metadata": {},
   "outputs": [
    {
     "name": "stdout",
     "output_type": "stream",
     "text": [
      "Malibu\n",
      "Lasetti\n"
     ]
    }
   ],
   "source": [
    "#      0 1 2 3 4 5 6 7 8 9 10 11 12  \n",
    "#      L M a a s l e i t b  t  u  i\n",
    "# txt = 'LMaasleitbtui'\n",
    "\n",
    "txt = list('LMaasleitbtui')\n",
    "txt\n",
    "car1 = txt[1] + txt[2] + txt[5] + txt[7] + txt[9] + txt[11]\n",
    "car2 = txt[0] + txt[3] + txt[4] + txt[6] + txt[8] + txt[10] + txt[12]\n",
    "\n",
    "print(car1)\n",
    "print(car2)\n"
   ]
  },
  {
   "cell_type": "markdown",
   "id": "0e21472d",
   "metadata": {},
   "source": [
    "## 3. Extract Car Names\n",
    "### Extract car names from the following text:\n",
    "\n",
    "txt = 'MsaatmiazD'\n"
   ]
  },
  {
   "cell_type": "code",
   "execution_count": 9,
   "id": "c3eb768c",
   "metadata": {},
   "outputs": [
    {
     "name": "stdout",
     "output_type": "stream",
     "text": [
      "Matiz\n",
      "Damas\n"
     ]
    }
   ],
   "source": [
    "#      0 1 2 3 4 5 6 7 8 9   \n",
    "#      M s a a t m i a z D  \n",
    "# txt = 'MsaatmiazD'\n",
    "\n",
    "txt = list('MsaatmiazD')\n",
    "txt\n",
    "car1 = txt[0] + txt[2] + txt[4] + txt[6] + txt[8] \n",
    "car2 = txt[9] + txt[3] + txt[5] + txt[7] + txt[1] \n",
    "\n",
    "print(car1)\n",
    "print(car2)\n"
   ]
  },
  {
   "cell_type": "markdown",
   "id": "c2d33833",
   "metadata": {},
   "source": [
    "## 4. Extract Residence Area\n",
    "### Extract the residence area from the following text:\n",
    "\n",
    "txt = \"I'm John. I am from London\""
   ]
  },
  {
   "cell_type": "code",
   "execution_count": 12,
   "id": "00195a3f",
   "metadata": {},
   "outputs": [
    {
     "name": "stdout",
     "output_type": "stream",
     "text": [
      "I'm John. I am from London\n"
     ]
    }
   ],
   "source": [
    "name = 'John'\n",
    "city = 'London'\n",
    "print(\"I'm {first_name}. I am from {place}\".format(first_name = name, place = city))"
   ]
  },
  {
   "cell_type": "markdown",
   "id": "cc5ff5d0",
   "metadata": {},
   "source": [
    "## 5. Reverse String\n",
    "### Write a Python program that takes a user input string and prints it in reverse order."
   ]
  },
  {
   "cell_type": "code",
   "execution_count": 14,
   "id": "b2885974",
   "metadata": {},
   "outputs": [
    {
     "name": "stdout",
     "output_type": "stream",
     "text": [
      "reganam tcejorp a ma I\n"
     ]
    }
   ],
   "source": [
    "text = \"I am a project manager\"\n",
    "reversed_text = text[::-1]\n",
    "print(reversed_text)"
   ]
  },
  {
   "cell_type": "markdown",
   "id": "da0ec7e3",
   "metadata": {},
   "source": [
    "## 6. Count Vowels\n",
    "### Write a Python program that counts the number of vowels in a given string.\n"
   ]
  },
  {
   "cell_type": "code",
   "execution_count": 15,
   "id": "88d0cd42",
   "metadata": {},
   "outputs": [
    {
     "name": "stdout",
     "output_type": "stream",
     "text": [
      "Number of vowels: 3\n"
     ]
    }
   ],
   "source": [
    "text = \"Hello, World!\"\n",
    "count = sum(1 for char in text if char.lower() in \"aeiou\")\n",
    "print(\"Number of vowels:\", count)\n"
   ]
  },
  {
   "cell_type": "markdown",
   "id": "3f63ced9",
   "metadata": {},
   "source": [
    "## 7. Find Maximum Value\n",
    "### Write a Python program that takes a list of numbers as input and prints the maximum value."
   ]
  },
  {
   "cell_type": "code",
   "execution_count": 18,
   "id": "22f2c1d8",
   "metadata": {},
   "outputs": [
    {
     "name": "stdout",
     "output_type": "stream",
     "text": [
      "81\n"
     ]
    }
   ],
   "source": [
    "my_list1 = [15, 56, 59, 81, 45]\n",
    "my_list1\n",
    "max_value = max(my_list1)\n",
    "print(max_value)"
   ]
  },
  {
   "cell_type": "markdown",
   "id": "e029761f",
   "metadata": {},
   "source": [
    "## 8. Check Palindrome\n",
    "### Write a Python program that checks if a given word is a palindrome (reads the same forward and backward)."
   ]
  },
  {
   "cell_type": "code",
   "execution_count": 23,
   "id": "ee5d65af",
   "metadata": {},
   "outputs": [
    {
     "name": "stdout",
     "output_type": "stream",
     "text": [
      "Palindrome word :  tenet\n"
     ]
    }
   ],
   "source": [
    "word = input(\"Enter a word: \")\n",
    "reversed_word = word[::-1]\n",
    "print(\"Palindrome word : \",reversed_word)"
   ]
  },
  {
   "cell_type": "markdown",
   "id": "75812fc5",
   "metadata": {},
   "source": [
    "## 9. Extract Email Domain\n",
    "### Write a Python program that extracts and prints the domain from an email address provided by the user."
   ]
  },
  {
   "cell_type": "code",
   "execution_count": 26,
   "id": "e55270cd",
   "metadata": {},
   "outputs": [
    {
     "name": "stdout",
     "output_type": "stream",
     "text": [
      "Domain: juru.org\n"
     ]
    }
   ],
   "source": [
    "\n",
    "email = input(\"Enter your email address: \")\n",
    "\n",
    "if \"@\" in email:\n",
    "    domain = email.split(\"@\")[1]\n",
    "    print(\"Domain:\", domain)\n",
    "else:\n",
    "    print(\"Invalid email address (missing '@').\")\n",
    "\n"
   ]
  },
  {
   "cell_type": "markdown",
   "id": "fb880d37",
   "metadata": {},
   "source": [
    "## 10. Generate Random Password\n",
    "### Write a Python program to generate a random password containing letters, digits, and special characters."
   ]
  },
  {
   "cell_type": "code",
   "execution_count": 30,
   "id": "68a362f3",
   "metadata": {},
   "outputs": [
    {
     "name": "stdout",
     "output_type": "stream",
     "text": [
      "Generated password: X%WK<n[pOg-w1G;}.(Tl><+j(&-!)#K}8G<HLvz=C5SWp+.aha'rnuXo\"lsq<fo;Y@8I{+]R8f>A\n"
     ]
    }
   ],
   "source": [
    "import random\n",
    "import string\n",
    "\n",
    "length = int(input(\"Enter the desired password length: \"))\n",
    "\n",
    "# Define character pools\n",
    "letters = string.ascii_letters  # a-z, A-Z\n",
    "digits = string.digits          # 0-9\n",
    "special_chars = string.punctuation  # e.g., !@#$%^&*\n",
    "\n",
    "# Combine all characters\n",
    "all_chars = letters + digits + special_chars\n",
    "\n",
    "# Generate password\n",
    "password = ''.join(random.choice(all_chars) for _ in range(length))\n",
    "\n",
    "# Print result\n",
    "print(\"Generated password:\", password)\n"
   ]
  }
 ],
 "metadata": {
  "kernelspec": {
   "display_name": "Python 3",
   "language": "python",
   "name": "python3"
  },
  "language_info": {
   "codemirror_mode": {
    "name": "ipython",
    "version": 3
   },
   "file_extension": ".py",
   "mimetype": "text/x-python",
   "name": "python",
   "nbconvert_exporter": "python",
   "pygments_lexer": "ipython3",
   "version": "3.13.3"
  }
 },
 "nbformat": 4,
 "nbformat_minor": 5
}
