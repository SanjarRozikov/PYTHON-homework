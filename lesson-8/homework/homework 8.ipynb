{
 "cells": [
  {
   "cell_type": "markdown",
   "id": "54225f35",
   "metadata": {},
   "source": [
    "### 1. Write a Python program to handle a ZeroDivisionError exception when dividing a number by zero."
   ]
  },
  {
   "cell_type": "code",
   "execution_count": 3,
   "id": "d73a2c34",
   "metadata": {},
   "outputs": [
    {
     "name": "stdout",
     "output_type": "stream",
     "text": [
      "You can't divide by zero!\n"
     ]
    }
   ],
   "source": [
    "a = 10\n",
    "b = 0\n",
    "try:\n",
    "    result = a / b\n",
    "except ZeroDivisionError:\n",
    "    print(\"You can't divide by zero!\")\n"
   ]
  },
  {
   "cell_type": "markdown",
   "id": "401bdf8c",
   "metadata": {},
   "source": [
    "### 2. Write a Python program that prompts the user to input an integer and raises a ValueError exception if the input is not a valid integer."
   ]
  },
  {
   "cell_type": "code",
   "execution_count": 2,
   "id": "06bc6fc6",
   "metadata": {},
   "outputs": [
    {
     "ename": "ValueError",
     "evalue": "invalid literal for int() with base 10: 'ds'",
     "output_type": "error",
     "traceback": [
      "\u001b[31m---------------------------------------------------------------------------\u001b[39m",
      "\u001b[31mValueError\u001b[39m                                Traceback (most recent call last)",
      "\u001b[36mCell\u001b[39m\u001b[36m \u001b[39m\u001b[32mIn[2]\u001b[39m\u001b[32m, line 1\u001b[39m\n\u001b[32m----> \u001b[39m\u001b[32m1\u001b[39m \u001b[38;5;28mprint\u001b[39m(\u001b[38;5;28;43mint\u001b[39;49m\u001b[43m(\u001b[49m\u001b[38;5;28;43minput\u001b[39;49m\u001b[43m(\u001b[49m\u001b[33;43m\"\u001b[39;49m\u001b[33;43mEnter you age: \u001b[39;49m\u001b[33;43m\"\u001b[39;49m\u001b[43m)\u001b[49m\u001b[43m)\u001b[49m)\n",
      "\u001b[31mValueError\u001b[39m: invalid literal for int() with base 10: 'ds'"
     ]
    }
   ],
   "source": [
    "print(int(input(\"Enter you age: \")))\n"
   ]
  },
  {
   "cell_type": "markdown",
   "id": "618f5ef1",
   "metadata": {},
   "source": [
    "### 3. Write a Python program that opens a file and handles a FileNotFoundError exception if the file does not exist."
   ]
  },
  {
   "cell_type": "code",
   "execution_count": 6,
   "id": "f2483d2a",
   "metadata": {},
   "outputs": [
    {
     "name": "stdout",
     "output_type": "stream",
     "text": [
      "The file was not found.\n"
     ]
    }
   ],
   "source": [
    "try:\n",
    "    with open(\"nonexistent_file.txt\", \"r\") as file:\n",
    "        content = file.read()\n",
    "except FileNotFoundError:\n",
    "    print(\"The file was not found.\")\n"
   ]
  },
  {
   "cell_type": "markdown",
   "id": "7f6dcf60",
   "metadata": {},
   "source": [
    "### 4. Write a Python program that prompts the user to input two numbers and raises a TypeError exception if the inputs are not numerical."
   ]
  },
  {
   "cell_type": "code",
   "execution_count": 8,
   "id": "c507c48a",
   "metadata": {},
   "outputs": [
    {
     "name": "stdout",
     "output_type": "stream",
     "text": [
      "TypeError: Input must be a number.\n"
     ]
    }
   ],
   "source": [
    "def get_number_input(prompt):\n",
    "    value = input(prompt)\n",
    "    if not value.replace('.', '', 1).isdigit():\n",
    "        raise TypeError(\"Input must be a number.\")\n",
    "    return float(value)\n",
    "\n",
    "try:\n",
    "    num1 = get_number_input(\"Enter the first number: \")\n",
    "    num2 = get_number_input(\"Enter the second number: \")\n",
    "    print(f\"You entered: {num1} and {num2}\")\n",
    "except TypeError as e:\n",
    "    print(f\"TypeError: {e}\")\n"
   ]
  },
  {
   "cell_type": "markdown",
   "id": "a15ec38a",
   "metadata": {},
   "source": [
    "### 5. Write a Python program that opens a file and handles a PermissionError exception if there is a permission issue."
   ]
  },
  {
   "cell_type": "code",
   "execution_count": null,
   "id": "31579ce1",
   "metadata": {},
   "outputs": [],
   "source": [
    "def open_file(filename, mode='r'):\n",
    "    try:\n",
    "        with open(filename, mode) as file:\n",
    "            if 'r' in mode:\n",
    "                content = file.read()\n",
    "                print(\"File content:\")\n",
    "                print(content)\n",
    "            else:\n",
    "                file.write(\"Writing test data.\\n\")\n",
    "                print(\"Data written to file.\")\n",
    "    except PermissionError:\n",
    "        print(f\"PermissionError: You do not have the required permissions to access the file '{filename}'.\")\n",
    "    except FileNotFoundError:\n",
    "        print(f\"FileNotFoundError: The file '{filename}' does not exist.\")\n",
    "    except Exception as e:\n",
    "        print(f\"An unexpected error occurred: {e}\")\n",
    "\n",
    "# Example usage\n",
    "filename = input(\"Enter the filename to open: \")\n",
    "mode = input(\"Enter mode ('r' for read, 'w' for write): \")\n",
    "open_file(filename, mode)\n"
   ]
  },
  {
   "cell_type": "markdown",
   "id": "2afe150f",
   "metadata": {},
   "source": [
    "### 6. Write a Python program that executes an operation on a list and handles an IndexError exception if the index is out of range."
   ]
  },
  {
   "cell_type": "code",
   "execution_count": 1,
   "id": "dff46c82",
   "metadata": {},
   "outputs": [
    {
     "name": "stdout",
     "output_type": "stream",
     "text": [
      "That index is out of range.\n"
     ]
    }
   ],
   "source": [
    "my_list = [1, 2, 3]\n",
    "try:\n",
    "    print(my_list[5])\n",
    "except IndexError:\n",
    "    print(\"That index is out of range.\")\n"
   ]
  },
  {
   "cell_type": "markdown",
   "id": "e6a79f89",
   "metadata": {},
   "source": [
    "### 7. Write a Python program that prompts the user to input a number and handles a KeyboardInterrupt exception if the user cancels the input.\n",
    "\n"
   ]
  },
  {
   "cell_type": "code",
   "execution_count": null,
   "id": "82063316",
   "metadata": {},
   "outputs": [],
   "source": [
    "data = {\"name\": \"Ali\", \"age\": 30}\n",
    "try:\n",
    "    print(data[\"gender\"])\n",
    "except KeyError:\n",
    "    print(\"Key not found in dictionary.\")\n"
   ]
  },
  {
   "cell_type": "markdown",
   "id": "ead3fecd",
   "metadata": {},
   "source": [
    "### 8. Write a Python program that executes division and handles an ArithmeticError exception if there is an arithmetic error.\n",
    "\n"
   ]
  },
  {
   "cell_type": "code",
   "execution_count": 5,
   "id": "4636c410",
   "metadata": {},
   "outputs": [
    {
     "name": "stdout",
     "output_type": "stream",
     "text": [
      "Invalid input: Please enter numerical values.\n"
     ]
    }
   ],
   "source": [
    "def safe_divide(a, b):\n",
    "    try:\n",
    "        result = a / b\n",
    "    except ArithmeticError as e:\n",
    "        print(f\"ArithmeticError occurred: {e}\")\n",
    "    else:\n",
    "        print(f\"The result of {a} divided by {b} is {result}\")\n",
    "\n",
    "# Example usage\n",
    "try:\n",
    "    num1 = float(input(\"Enter the numerator: \"))\n",
    "    num2 = float(input(\"Enter the denominator: \"))\n",
    "    safe_divide(num1, num2)\n",
    "except ValueError:\n",
    "    print(\"Invalid input: Please enter numerical values.\")\n",
    "\n"
   ]
  },
  {
   "cell_type": "markdown",
   "id": "99a5aa90",
   "metadata": {},
   "source": [
    "### 9. Write a Python program that opens a file and handles a UnicodeDecodeError exception if there is an encoding issue.\n",
    "\n"
   ]
  },
  {
   "cell_type": "code",
   "execution_count": null,
   "id": "f1fb85a9",
   "metadata": {},
   "outputs": [],
   "source": [
    "def read_file(filename):\n",
    "    try:\n",
    "        with open(filename, 'r', encoding='utf-8') as file:\n",
    "            content = file.read()\n",
    "            print(\"File content:\")\n",
    "            print(content)\n",
    "    except UnicodeDecodeError as e:\n",
    "        print(f\"UnicodeDecodeError: Cannot decode file '{filename}' using UTF-8 encoding.\")\n",
    "        print(f\"Error details: {e}\")\n",
    "    except FileNotFoundError:\n",
    "        print(f\"FileNotFoundError: The file '{filename}' was not found.\")\n",
    "    except Exception as e:\n",
    "        print(f\"An unexpected error occurred: {e}\")\n",
    "\n",
    "# Example usage\n",
    "filename = input(\"Enter the filename to read: \")\n",
    "read_file(filename)\n"
   ]
  },
  {
   "cell_type": "markdown",
   "id": "845f88f8",
   "metadata": {},
   "source": [
    "### 10. Write a Python program that executes a list operation and handles an AttributeError exception if the attribute does not exist.\n",
    "\n"
   ]
  },
  {
   "cell_type": "code",
   "execution_count": null,
   "id": "5fe8d4f6",
   "metadata": {},
   "outputs": [],
   "source": [
    "def list_operation(my_list):\n",
    "    try:\n",
    "        # Intentional mistake: trying to use .upper() on a list (should raise AttributeError)\n",
    "        result = my_list.upper()\n",
    "        print(\"Result:\", result)\n",
    "    except AttributeError as e:\n",
    "        print(\"AttributeError: Attempted to use an invalid attribute on a list.\")\n",
    "        print(f\"Error details: {e}\")\n",
    "    except Exception as e:\n",
    "        print(f\"An unexpected error occurred: {e}\")\n",
    "\n",
    "# Example usage\n",
    "my_list = [\"apple\", \"banana\", \"cherry\"]\n",
    "list_operation(my_list)\n"
   ]
  }
 ],
 "metadata": {
  "kernelspec": {
   "display_name": "Python 3",
   "language": "python",
   "name": "python3"
  },
  "language_info": {
   "codemirror_mode": {
    "name": "ipython",
    "version": 3
   },
   "file_extension": ".py",
   "mimetype": "text/x-python",
   "name": "python",
   "nbconvert_exporter": "python",
   "pygments_lexer": "ipython3",
   "version": "3.13.3"
  }
 },
 "nbformat": 4,
 "nbformat_minor": 5
}
