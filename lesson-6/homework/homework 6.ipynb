{
 "cells": [
  {
   "cell_type": "markdown",
   "id": "bcde349e",
   "metadata": {},
   "source": [
    "### 1. Modify String with Underscores\n",
    "Given a string txt, insert an underscore (_) after every third character. If a character is a vowel or already has an underscore after it, shift the underscore placement to the next character. No underscore should be added at the end.\n",
    "\n",
    "Examples\n",
    "Input: hello Output: hel_lo\n",
    "\n",
    "Input: assalom Output: ass_alom\n",
    "\n",
    "Input: abcabcabcdeabcdefabcdefg Output: abc_abc_abcd_abcd_abcdef"
   ]
  },
  {
   "cell_type": "code",
   "execution_count": 3,
   "id": "578d5f4b",
   "metadata": {},
   "outputs": [
    {
     "name": "stdout",
     "output_type": "stream",
     "text": [
      "hel_lo\n",
      "assa_lom\n",
      "abca_bca_bcdea_bcde_fab_cde_fg\n"
     ]
    }
   ],
   "source": [
    "def insert_underscores(txt):\n",
    "    vowels = 'aeiouAEIOU'\n",
    "    result = []\n",
    "    i = 0\n",
    "    count = 0  # Number of non-underscore characters since last underscore\n",
    "    \n",
    "    while i < len(txt):\n",
    "        result.append(txt[i])\n",
    "        count += 1\n",
    "        \n",
    "        # Check if we hit the third character\n",
    "        if count == 3:\n",
    "            # Decide where to insert underscore\n",
    "            insert_at = len(result)\n",
    "            \n",
    "            # Shift if it's a vowel or already followed by _\n",
    "            shift_i = i + 1\n",
    "            while (shift_i < len(txt) and \n",
    "                   (txt[shift_i] in vowels or \n",
    "                    (shift_i + 1 < len(txt) and txt[shift_i + 1] == '_'))):\n",
    "                result.append(txt[shift_i])\n",
    "                i += 1\n",
    "                shift_i += 1\n",
    "            \n",
    "            # Only insert if it's not at the end\n",
    "            if i + 1 < len(txt):\n",
    "                result.append('_')\n",
    "                count = 0\n",
    "            else:\n",
    "                break\n",
    "        i += 1\n",
    "\n",
    "    return ''.join(result)\n",
    "\n",
    "print(insert_underscores(\"hello\"))\n",
    "print(insert_underscores(\"assalom\"))\n",
    "print(insert_underscores(\"abcabcabcdeabcdefabcdefg\"))"
   ]
  },
  {
   "cell_type": "markdown",
   "id": "6bb997da",
   "metadata": {},
   "source": [
    "## 2. Integer Squares Exercise\n",
    "Task\n",
    "The provided code stub reads an integer, n, from STDIN. For all non-negative integers i where 0 <= i < n, print i^2.\n",
    "\n",
    "Example Input\n",
    "5\n",
    "Example Output\n",
    "0\n",
    "1\n",
    "4\n",
    "9\n",
    "16\n",
    "Input Format\n",
    "The first and only line contains the integer, n.\n",
    "\n",
    "Constraints\n",
    "1 <= n <= 20\n",
    "Output Format\n",
    "Print n lines, one corresponding to each i^2 where 0 <= i < n.\n"
   ]
  },
  {
   "cell_type": "code",
   "execution_count": 7,
   "id": "98e0e9ff",
   "metadata": {},
   "outputs": [
    {
     "name": "stdout",
     "output_type": "stream",
     "text": [
      "0\n",
      "1\n",
      "4\n",
      "9\n",
      "16\n"
     ]
    }
   ],
   "source": [
    "squares = [i ** 2  for i in range(5)]\n",
    "\n",
    "for item in squares:\n",
    "    print(item)"
   ]
  },
  {
   "cell_type": "markdown",
   "id": "4f4e19c3",
   "metadata": {},
   "source": [
    "## 3. Loop-Based Exercises\n",
    "### Exercise 1: Print first 10 natural numbers using a while loop\n"
   ]
  },
  {
   "cell_type": "code",
   "execution_count": 11,
   "id": "414ec921",
   "metadata": {},
   "outputs": [
    {
     "name": "stdout",
     "output_type": "stream",
     "text": [
      "1\n",
      "2\n",
      "3\n",
      "4\n",
      "5\n",
      "6\n",
      "7\n",
      "8\n",
      "9\n",
      "10\n"
     ]
    }
   ],
   "source": [
    "i = 1\n",
    "while i <= 10:\n",
    "    print(i)\n",
    "    i += 1\n"
   ]
  },
  {
   "cell_type": "markdown",
   "id": "ca564d92",
   "metadata": {},
   "source": [
    "### Exercise 2: Print the following pattern"
   ]
  },
  {
   "cell_type": "code",
   "execution_count": 15,
   "id": "da986aa6",
   "metadata": {},
   "outputs": [
    {
     "name": "stdout",
     "output_type": "stream",
     "text": [
      "1 \n",
      "1 2 \n",
      "1 2 3 \n",
      "1 2 3 4 \n",
      "1 2 3 4 5 \n"
     ]
    }
   ],
   "source": [
    "i = 1\n",
    "while i <= 5:\n",
    "    j = 1\n",
    "    while j <= i:\n",
    "        print(j, end=' ')\n",
    "        j += 1\n",
    "    print()  \n",
    "    i += 1\n"
   ]
  },
  {
   "cell_type": "markdown",
   "id": "84900bb9",
   "metadata": {},
   "source": [
    "#### or"
   ]
  },
  {
   "cell_type": "code",
   "execution_count": 16,
   "id": "40f235f8",
   "metadata": {},
   "outputs": [
    {
     "name": "stdout",
     "output_type": "stream",
     "text": [
      "1\n",
      "1 2\n",
      "1 2 3\n",
      "1 2 3 4\n",
      "1 2 3 4 5\n"
     ]
    }
   ],
   "source": [
    "i = 1\n",
    "while i <= 5:\n",
    "    line = \"\"\n",
    "    j = 1\n",
    "    while j <= i:\n",
    "        line += str(j) + \" \"\n",
    "        j += 1\n",
    "    print(line.strip())  \n",
    "    i += 1\n"
   ]
  },
  {
   "cell_type": "markdown",
   "id": "04eb528d",
   "metadata": {},
   "source": [
    "### Exercise 3: Calculate sum of all numbers from 1 to a given number\n"
   ]
  },
  {
   "cell_type": "markdown",
   "id": "6cf9e9ae",
   "metadata": {},
   "source": [
    "Example:\n",
    "\n",
    "Enter number 10\n",
    "Sum is: 55"
   ]
  },
  {
   "cell_type": "code",
   "execution_count": 25,
   "id": "21626573",
   "metadata": {},
   "outputs": [
    {
     "name": "stdout",
     "output_type": "stream",
     "text": [
      "[1, 2, 3, 4, 5, 6, 7, 8, 9, 10]\n",
      "55\n"
     ]
    }
   ],
   "source": [
    "my_numbers = [1,2,3,4,5,6,7,8,9,10]\n",
    "type(my_numbers)\n",
    "print(my_numbers)\n",
    "total = sum(my_numbers)\n",
    "print(total)"
   ]
  },
  {
   "cell_type": "markdown",
   "id": "ddcc7998",
   "metadata": {},
   "source": [
    "#### or "
   ]
  },
  {
   "cell_type": "code",
   "execution_count": 28,
   "id": "5555caad",
   "metadata": {},
   "outputs": [
    {
     "name": "stdout",
     "output_type": "stream",
     "text": [
      "1\n",
      "3\n",
      "6\n",
      "10\n",
      "15\n",
      "21\n",
      "28\n",
      "36\n",
      "45\n",
      "55\n"
     ]
    }
   ],
   "source": [
    "my_numbers = [1,2,3,4,5,6,7,8,9,10]\n",
    "i = 0 \n",
    "total = 0 \n",
    "while i < len(my_numbers):\n",
    "    total += my_numbers[i]\n",
    "    i += 1 \n",
    "    print(total)"
   ]
  },
  {
   "cell_type": "markdown",
   "id": "5027a60b",
   "metadata": {},
   "source": [
    "### Exercise 4: Print multiplication table of a given number\n"
   ]
  },
  {
   "cell_type": "code",
   "execution_count": 2,
   "id": "75c06512",
   "metadata": {},
   "outputs": [
    {
     "name": "stdout",
     "output_type": "stream",
     "text": [
      "2\n",
      "4\n",
      "6\n",
      "8\n",
      "10\n",
      "12\n",
      "14\n",
      "16\n",
      "18\n",
      "20\n"
     ]
    }
   ],
   "source": [
    "num = int(input(\"Enter a number: \"))  \n",
    "i = 1\n",
    "while i <= 10:\n",
    "    print(num * i)\n",
    "    i += 1"
   ]
  },
  {
   "cell_type": "markdown",
   "id": "a1f806cb",
   "metadata": {},
   "source": [
    "### Exercise 5: Display numbers from a list using a loop"
   ]
  },
  {
   "cell_type": "markdown",
   "id": "9b1ca55c",
   "metadata": {},
   "source": [
    "Given:\n",
    "\n",
    "numbers = [12, 75, 150, 180, 145, 525, 50]"
   ]
  },
  {
   "cell_type": "markdown",
   "id": "18beb2b5",
   "metadata": {},
   "source": [
    "Expected Output:\n",
    "\n",
    "75\n",
    "150\n",
    "145"
   ]
  },
  {
   "cell_type": "code",
   "execution_count": 43,
   "id": "61281720",
   "metadata": {},
   "outputs": [
    {
     "name": "stdout",
     "output_type": "stream",
     "text": [
      "75\n",
      "150\n",
      "145\n"
     ]
    }
   ],
   "source": [
    "numbers = [12, 75, 150, 180, 145, 525, 50]\n",
    "\n",
    "for num in numbers:\n",
    "    if num > 500:\n",
    "        break\n",
    "    if num > 150:\n",
    "        continue\n",
    "    if num < 75:\n",
    "        continue\n",
    "    print(num)\n"
   ]
  },
  {
   "cell_type": "markdown",
   "id": "bf204280",
   "metadata": {},
   "source": [
    "### Exercise 6: Count the total number of digits in a number"
   ]
  },
  {
   "cell_type": "markdown",
   "id": "4571d9a5",
   "metadata": {},
   "source": [
    "Example:\n",
    "\n",
    "75869\n",
    "Output: 5"
   ]
  },
  {
   "cell_type": "code",
   "execution_count": 58,
   "id": "52c71167",
   "metadata": {},
   "outputs": [
    {
     "name": "stdout",
     "output_type": "stream",
     "text": [
      "5\n"
     ]
    }
   ],
   "source": [
    "digit = 75869\n",
    "count = 0\n",
    "while digit > 0:\n",
    "    digit = digit // 10  \n",
    "    count += 1\n",
    "\n",
    "print(count)\n"
   ]
  },
  {
   "cell_type": "markdown",
   "id": "6c347979",
   "metadata": {},
   "source": [
    "### Exercise 7: Print reverse number pattern\n",
    "##### 5 4 3 2 1\n",
    "##### 4 3 2 1\n",
    "##### 3 2 1\n",
    "##### 2 1\n",
    "##### 1"
   ]
  },
  {
   "cell_type": "code",
   "execution_count": 67,
   "id": "e336d2ce",
   "metadata": {},
   "outputs": [
    {
     "name": "stdout",
     "output_type": "stream",
     "text": [
      "5 4 3 2 1 \n",
      "4 3 2 1 \n",
      "3 2 1 \n",
      "2 1 \n",
      "1 \n"
     ]
    }
   ],
   "source": [
    "i = 5\n",
    "while i >= 1:\n",
    "    j = i\n",
    "    while j >= 1:\n",
    "        print(j, end=' ')\n",
    "        j -= 1\n",
    "    print()\n",
    "    i -= 1\n"
   ]
  },
  {
   "cell_type": "markdown",
   "id": "41cd6e8a",
   "metadata": {},
   "source": [
    "### Exercise 8: Print list in reverse order using a loop\n",
    "#### Given:\n",
    "\n",
    "##### list1 = [10, 20, 30, 40, 50]\n",
    "##### Expected Output:\n",
    "\n",
    "##### 50\n",
    "##### 40\n",
    "##### 30\n",
    "##### 20\n",
    "##### 10"
   ]
  },
  {
   "cell_type": "code",
   "execution_count": 73,
   "id": "d68b4902",
   "metadata": {},
   "outputs": [
    {
     "name": "stdout",
     "output_type": "stream",
     "text": [
      "50\n",
      "40\n",
      "30\n",
      "20\n",
      "10\n"
     ]
    }
   ],
   "source": [
    "list1 = [10, 20, 30, 40, 50]\n",
    "\n",
    "i = len(list1) - 1 \n",
    "while i >= 0:\n",
    "    print(list1[i])\n",
    "    i -= 1\n"
   ]
  },
  {
   "cell_type": "markdown",
   "id": "66ae6747",
   "metadata": {},
   "source": [
    "### Exercise 9: Display numbers from -10 to -1 using a for loop"
   ]
  },
  {
   "cell_type": "code",
   "execution_count": 8,
   "id": "ebf8384e",
   "metadata": {},
   "outputs": [
    {
     "name": "stdout",
     "output_type": "stream",
     "text": [
      "-10\n",
      "-9\n",
      "-8\n",
      "-7\n",
      "-6\n",
      "-5\n",
      "-4\n",
      "-3\n",
      "-2\n",
      "-1\n"
     ]
    }
   ],
   "source": [
    "for i in range(-10,0):\n",
    "    print(i)"
   ]
  },
  {
   "cell_type": "markdown",
   "id": "1bccc10a",
   "metadata": {},
   "source": [
    "### Exercise 10: Display message “Done” after successful loop execution"
   ]
  },
  {
   "cell_type": "code",
   "execution_count": 24,
   "id": "e22184fb",
   "metadata": {},
   "outputs": [
    {
     "name": "stdout",
     "output_type": "stream",
     "text": [
      "0\n",
      "1\n",
      "2\n",
      "3\n",
      "4\n",
      "Done!\n"
     ]
    }
   ],
   "source": [
    "\n",
    "for i in range(0,5):\n",
    "    print(i)\n",
    "print(\"Done!\")\n"
   ]
  },
  {
   "cell_type": "markdown",
   "id": "dfef4b8f",
   "metadata": {},
   "source": [
    "### Exercise 11: Print all prime numbers within a range\n"
   ]
  },
  {
   "cell_type": "code",
   "execution_count": 37,
   "id": "62cfd078",
   "metadata": {},
   "outputs": [
    {
     "name": "stdout",
     "output_type": "stream",
     "text": [
      "29\n",
      "31\n",
      "37\n",
      "41\n",
      "43\n",
      "47\n"
     ]
    }
   ],
   "source": [
    "for num in range(25,50):\n",
    "    if num > 25:\n",
    "        is_prime = True\n",
    "        for i in range (2,int(num**0.5)+1):\n",
    "            if num % i == 0:\n",
    "                is_prime = False\n",
    "                break\n",
    "        if is_prime:\n",
    "            print(num)"
   ]
  },
  {
   "cell_type": "markdown",
   "id": "db670c66",
   "metadata": {},
   "source": [
    "### Exercise 12: Display Fibonacci series up to 10 terms\n",
    "Example:\n",
    "\n",
    "Fibonacci sequence:\n",
    "0  1  1  2  3  5  8  13  21  34"
   ]
  },
  {
   "cell_type": "markdown",
   "id": "1c69b7a5",
   "metadata": {},
   "source": [
    "##### F(0) = 0\n",
    "##### F(1) = 1\n",
    "#####  F(n) = F(n-1) + F(n-2)   for n > 1"
   ]
  },
  {
   "cell_type": "code",
   "execution_count": 38,
   "id": "33c49af1",
   "metadata": {},
   "outputs": [
    {
     "name": "stdout",
     "output_type": "stream",
     "text": [
      "Fibonacci series:\n",
      "0\n",
      "1\n",
      "1\n",
      "2\n",
      "3\n",
      "5\n",
      "8\n",
      "13\n",
      "21\n",
      "34\n"
     ]
    }
   ],
   "source": [
    "n = 10  \n",
    "\n",
    "a, b = 0, 1\n",
    "print(\"Fibonacci series:\")\n",
    "\n",
    "for _ in range(n):\n",
    "    print(a)\n",
    "    a, b = b, a + b\n"
   ]
  },
  {
   "cell_type": "markdown",
   "id": "e13847e5",
   "metadata": {},
   "source": [
    "### Exercise 13: Find the factorial of a given number\n",
    "Example:\n",
    "\n",
    "5! = 120"
   ]
  },
  {
   "cell_type": "code",
   "execution_count": 41,
   "id": "53986585",
   "metadata": {},
   "outputs": [
    {
     "name": "stdout",
     "output_type": "stream",
     "text": [
      "5!= 120\n"
     ]
    }
   ],
   "source": [
    "num = 5 \n",
    "factorial = 1\n",
    "\n",
    "if num < 0:\n",
    "    print(\"Factorial does not exist for negative numbers.\")\n",
    "elif num == 0:\n",
    "    print(\"The factorial of 0 is 1.\")\n",
    "else:\n",
    "    for i in range(1, num + 1):\n",
    "        factorial *= i\n",
    "    #print(f\"The factorial of {num} is {factorial}.\")\n",
    "    print(\"5!=\",factorial)"
   ]
  },
  {
   "cell_type": "markdown",
   "id": "3d8b88f6",
   "metadata": {},
   "source": [
    "## 4. Return Uncommon Elements of Lists"
   ]
  },
  {
   "cell_type": "code",
   "execution_count": 1,
   "id": "b54cbc25",
   "metadata": {},
   "outputs": [
    {
     "name": "stdout",
     "output_type": "stream",
     "text": [
      "[1, 1, 3, 4]\n"
     ]
    }
   ],
   "source": [
    "def uncommon_elements(list1, list2):\n",
    "    result = []\n",
    "\n",
    "    # Count occurrences in both lists\n",
    "    for item in list1:\n",
    "        if item not in list2:\n",
    "            result.append(item)\n",
    "\n",
    "    for item in list2:\n",
    "        if item not in list1:\n",
    "            result.append(item)\n",
    "\n",
    "    return result\n",
    "\n",
    "list1 = [1, 1, 2]\n",
    "list2 = [2, 3, 4]\n",
    "\n",
    "output = uncommon_elements(list1, list2)\n",
    "print(output)\n"
   ]
  }
 ],
 "metadata": {
  "kernelspec": {
   "display_name": "Python 3",
   "language": "python",
   "name": "python3"
  },
  "language_info": {
   "codemirror_mode": {
    "name": "ipython",
    "version": 3
   },
   "file_extension": ".py",
   "mimetype": "text/x-python",
   "name": "python",
   "nbconvert_exporter": "python",
   "pygments_lexer": "ipython3",
   "version": "3.13.3"
  }
 },
 "nbformat": 4,
 "nbformat_minor": 5
}
